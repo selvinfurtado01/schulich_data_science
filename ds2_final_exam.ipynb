{
 "cells": [
  {
   "cell_type": "code",
   "execution_count": 53,
   "metadata": {},
   "outputs": [],
   "source": [
    "import pandas as pd\n",
    "import numpy as np\n",
    "import tensorflow as tf\n",
    "from tensorflow.keras import layers, callbacks\n",
    "from tensorflow.keras.optimizers import SGD, Adagrad, Adam\n",
    "from tensorflow.keras.initializers import RandomNormal, GlorotUniform, HeUniform\n",
    "from tensorflow.keras.models import Sequential\n",
    "from tensorflow.keras.layers import Embedding, Conv1D, GlobalMaxPooling1D, Dense, Dropout\n",
    "from tensorflow.keras.preprocessing.text import Tokenizer\n",
    "from tensorflow.keras.preprocessing.sequence import pad_sequences\n",
    "from sklearn.model_selection import train_test_split\n",
    "from sklearn.preprocessing import LabelEncoder"
   ]
  },
  {
   "cell_type": "code",
   "execution_count": 24,
   "metadata": {},
   "outputs": [],
   "source": [
    "reviews_df = pd.read_csv('https://raw.githubusercontent.com/selvinfurtado01/schulich_data_science/refs/heads/main/Recipe%20Reviews%20and%20User%20Feedback%20Dataset.csv')"
   ]
  },
  {
   "cell_type": "code",
   "execution_count": 25,
   "metadata": {},
   "outputs": [
    {
     "data": {
      "text/html": [
       "<div>\n",
       "<style scoped>\n",
       "    .dataframe tbody tr th:only-of-type {\n",
       "        vertical-align: middle;\n",
       "    }\n",
       "\n",
       "    .dataframe tbody tr th {\n",
       "        vertical-align: top;\n",
       "    }\n",
       "\n",
       "    .dataframe thead th {\n",
       "        text-align: right;\n",
       "    }\n",
       "</style>\n",
       "<table border=\"1\" class=\"dataframe\">\n",
       "  <thead>\n",
       "    <tr style=\"text-align: right;\">\n",
       "      <th></th>\n",
       "      <th>Unnamed: 0</th>\n",
       "      <th>recipe_number</th>\n",
       "      <th>recipe_code</th>\n",
       "      <th>recipe_name</th>\n",
       "      <th>comment_id</th>\n",
       "      <th>user_id</th>\n",
       "      <th>user_name</th>\n",
       "      <th>user_reputation</th>\n",
       "      <th>created_at</th>\n",
       "      <th>reply_count</th>\n",
       "      <th>thumbs_up</th>\n",
       "      <th>thumbs_down</th>\n",
       "      <th>stars</th>\n",
       "      <th>best_score</th>\n",
       "      <th>text</th>\n",
       "    </tr>\n",
       "  </thead>\n",
       "  <tbody>\n",
       "    <tr>\n",
       "      <th>0</th>\n",
       "      <td>0</td>\n",
       "      <td>1</td>\n",
       "      <td>14299</td>\n",
       "      <td>Creamy White Chili</td>\n",
       "      <td>sp_aUSaElGf_14299_c_2G3aneMRgRMZwXqIHmSdXSG1hEM</td>\n",
       "      <td>u_9iFLIhMa8QaG</td>\n",
       "      <td>Jeri326</td>\n",
       "      <td>1</td>\n",
       "      <td>1665619889</td>\n",
       "      <td>0</td>\n",
       "      <td>0</td>\n",
       "      <td>0</td>\n",
       "      <td>5</td>\n",
       "      <td>527</td>\n",
       "      <td>I tweaked it a little, removed onions because ...</td>\n",
       "    </tr>\n",
       "    <tr>\n",
       "      <th>1</th>\n",
       "      <td>1</td>\n",
       "      <td>1</td>\n",
       "      <td>14299</td>\n",
       "      <td>Creamy White Chili</td>\n",
       "      <td>sp_aUSaElGf_14299_c_2FsPC83HtzCsQAtOxlbL6RcaPbY</td>\n",
       "      <td>u_Lu6p25tmE77j</td>\n",
       "      <td>Mark467</td>\n",
       "      <td>50</td>\n",
       "      <td>1665277687</td>\n",
       "      <td>0</td>\n",
       "      <td>7</td>\n",
       "      <td>0</td>\n",
       "      <td>5</td>\n",
       "      <td>724</td>\n",
       "      <td>Bush used to have a white chili bean and it ma...</td>\n",
       "    </tr>\n",
       "    <tr>\n",
       "      <th>2</th>\n",
       "      <td>2</td>\n",
       "      <td>1</td>\n",
       "      <td>14299</td>\n",
       "      <td>Creamy White Chili</td>\n",
       "      <td>sp_aUSaElGf_14299_c_2FPrSGyTv7PQkZq37j92r9mYGkP</td>\n",
       "      <td>u_s0LwgpZ8Jsqq</td>\n",
       "      <td>Barbara566</td>\n",
       "      <td>10</td>\n",
       "      <td>1664404557</td>\n",
       "      <td>0</td>\n",
       "      <td>3</td>\n",
       "      <td>0</td>\n",
       "      <td>5</td>\n",
       "      <td>710</td>\n",
       "      <td>I have a very complicated white chicken chili ...</td>\n",
       "    </tr>\n",
       "    <tr>\n",
       "      <th>3</th>\n",
       "      <td>3</td>\n",
       "      <td>1</td>\n",
       "      <td>14299</td>\n",
       "      <td>Creamy White Chili</td>\n",
       "      <td>sp_aUSaElGf_14299_c_2DzdSIgV9qNiuBaLoZ7JQaartoC</td>\n",
       "      <td>u_fqrybAdYjgjG</td>\n",
       "      <td>jeansch123</td>\n",
       "      <td>1</td>\n",
       "      <td>1661787808</td>\n",
       "      <td>2</td>\n",
       "      <td>2</td>\n",
       "      <td>0</td>\n",
       "      <td>0</td>\n",
       "      <td>581</td>\n",
       "      <td>In your introduction, you mentioned cream chee...</td>\n",
       "    </tr>\n",
       "    <tr>\n",
       "      <th>4</th>\n",
       "      <td>4</td>\n",
       "      <td>1</td>\n",
       "      <td>14299</td>\n",
       "      <td>Creamy White Chili</td>\n",
       "      <td>sp_aUSaElGf_14299_c_2DtZJuRQYeTFwXBoZRfRhBPEXjI</td>\n",
       "      <td>u_XXWKwVhKZD69</td>\n",
       "      <td>camper77</td>\n",
       "      <td>10</td>\n",
       "      <td>1664913823</td>\n",
       "      <td>1</td>\n",
       "      <td>7</td>\n",
       "      <td>0</td>\n",
       "      <td>0</td>\n",
       "      <td>820</td>\n",
       "      <td>Wonderful! I made this for a &amp;#34;Chili/Stew&amp;#...</td>\n",
       "    </tr>\n",
       "    <tr>\n",
       "      <th>5</th>\n",
       "      <td>5</td>\n",
       "      <td>1</td>\n",
       "      <td>14299</td>\n",
       "      <td>Creamy White Chili</td>\n",
       "      <td>sp_aUSaElGf_14299_c_2Do918IutExN0pWEOFMU4cbiT8v</td>\n",
       "      <td>u_BALTQJIvWtYr</td>\n",
       "      <td>nikhita</td>\n",
       "      <td>1</td>\n",
       "      <td>1661354351</td>\n",
       "      <td>0</td>\n",
       "      <td>3</td>\n",
       "      <td>1</td>\n",
       "      <td>5</td>\n",
       "      <td>518</td>\n",
       "      <td>amazing! my boyfriend loved it so much! going ...</td>\n",
       "    </tr>\n",
       "    <tr>\n",
       "      <th>6</th>\n",
       "      <td>6</td>\n",
       "      <td>1</td>\n",
       "      <td>14299</td>\n",
       "      <td>Creamy White Chili</td>\n",
       "      <td>sp_aUSaElGf_14299_c_24hhcbywpsgGqG7yeDFH1IPZCb8</td>\n",
       "      <td>u_HuJVXMzQqJoI</td>\n",
       "      <td>Sandy1256</td>\n",
       "      <td>1</td>\n",
       "      <td>1644088805</td>\n",
       "      <td>0</td>\n",
       "      <td>11</td>\n",
       "      <td>0</td>\n",
       "      <td>5</td>\n",
       "      <td>833</td>\n",
       "      <td>Wow!!!  This recipe is excellent as written!! ...</td>\n",
       "    </tr>\n",
       "    <tr>\n",
       "      <th>7</th>\n",
       "      <td>7</td>\n",
       "      <td>1</td>\n",
       "      <td>14299</td>\n",
       "      <td>Creamy White Chili</td>\n",
       "      <td>sp_aUSaElGf_14299_c_24cuIEu6UoJvd5VRMAoqnTPR9wd</td>\n",
       "      <td>u_uj79hCc4xVhm</td>\n",
       "      <td>Towanka</td>\n",
       "      <td>1</td>\n",
       "      <td>1643942114</td>\n",
       "      <td>0</td>\n",
       "      <td>28</td>\n",
       "      <td>2</td>\n",
       "      <td>0</td>\n",
       "      <td>891</td>\n",
       "      <td>This is delicious and I make it often. One suc...</td>\n",
       "    </tr>\n",
       "    <tr>\n",
       "      <th>8</th>\n",
       "      <td>8</td>\n",
       "      <td>1</td>\n",
       "      <td>14299</td>\n",
       "      <td>Creamy White Chili</td>\n",
       "      <td>sp_aUSaElGf_14299_c_24cc4VZR87RR5vdkYAnsnq6YaOS</td>\n",
       "      <td>u_xDTU4BqIVIc9</td>\n",
       "      <td>Quest</td>\n",
       "      <td>1</td>\n",
       "      <td>1643933124</td>\n",
       "      <td>0</td>\n",
       "      <td>6</td>\n",
       "      <td>0</td>\n",
       "      <td>5</td>\n",
       "      <td>693</td>\n",
       "      <td>I absolutely love this recipe. I&amp;#39;ve tweake...</td>\n",
       "    </tr>\n",
       "    <tr>\n",
       "      <th>9</th>\n",
       "      <td>9</td>\n",
       "      <td>1</td>\n",
       "      <td>14299</td>\n",
       "      <td>Creamy White Chili</td>\n",
       "      <td>sp_aUSaElGf_14299_c_24Fso1ApihQ91uCmNvhBDDO1k2P</td>\n",
       "      <td>u_cDoX9ujcQEoc</td>\n",
       "      <td>Susannah953</td>\n",
       "      <td>1</td>\n",
       "      <td>1643237839</td>\n",
       "      <td>0</td>\n",
       "      <td>0</td>\n",
       "      <td>0</td>\n",
       "      <td>5</td>\n",
       "      <td>404</td>\n",
       "      <td>I make this a lot … my kids and there friends ...</td>\n",
       "    </tr>\n",
       "  </tbody>\n",
       "</table>\n",
       "</div>"
      ],
      "text/plain": [
       "   Unnamed: 0  recipe_number  recipe_code         recipe_name  \\\n",
       "0           0              1        14299  Creamy White Chili   \n",
       "1           1              1        14299  Creamy White Chili   \n",
       "2           2              1        14299  Creamy White Chili   \n",
       "3           3              1        14299  Creamy White Chili   \n",
       "4           4              1        14299  Creamy White Chili   \n",
       "5           5              1        14299  Creamy White Chili   \n",
       "6           6              1        14299  Creamy White Chili   \n",
       "7           7              1        14299  Creamy White Chili   \n",
       "8           8              1        14299  Creamy White Chili   \n",
       "9           9              1        14299  Creamy White Chili   \n",
       "\n",
       "                                        comment_id         user_id  \\\n",
       "0  sp_aUSaElGf_14299_c_2G3aneMRgRMZwXqIHmSdXSG1hEM  u_9iFLIhMa8QaG   \n",
       "1  sp_aUSaElGf_14299_c_2FsPC83HtzCsQAtOxlbL6RcaPbY  u_Lu6p25tmE77j   \n",
       "2  sp_aUSaElGf_14299_c_2FPrSGyTv7PQkZq37j92r9mYGkP  u_s0LwgpZ8Jsqq   \n",
       "3  sp_aUSaElGf_14299_c_2DzdSIgV9qNiuBaLoZ7JQaartoC  u_fqrybAdYjgjG   \n",
       "4  sp_aUSaElGf_14299_c_2DtZJuRQYeTFwXBoZRfRhBPEXjI  u_XXWKwVhKZD69   \n",
       "5  sp_aUSaElGf_14299_c_2Do918IutExN0pWEOFMU4cbiT8v  u_BALTQJIvWtYr   \n",
       "6  sp_aUSaElGf_14299_c_24hhcbywpsgGqG7yeDFH1IPZCb8  u_HuJVXMzQqJoI   \n",
       "7  sp_aUSaElGf_14299_c_24cuIEu6UoJvd5VRMAoqnTPR9wd  u_uj79hCc4xVhm   \n",
       "8  sp_aUSaElGf_14299_c_24cc4VZR87RR5vdkYAnsnq6YaOS  u_xDTU4BqIVIc9   \n",
       "9  sp_aUSaElGf_14299_c_24Fso1ApihQ91uCmNvhBDDO1k2P  u_cDoX9ujcQEoc   \n",
       "\n",
       "     user_name  user_reputation  created_at  reply_count  thumbs_up  \\\n",
       "0      Jeri326                1  1665619889            0          0   \n",
       "1      Mark467               50  1665277687            0          7   \n",
       "2   Barbara566               10  1664404557            0          3   \n",
       "3   jeansch123                1  1661787808            2          2   \n",
       "4     camper77               10  1664913823            1          7   \n",
       "5      nikhita                1  1661354351            0          3   \n",
       "6    Sandy1256                1  1644088805            0         11   \n",
       "7      Towanka                1  1643942114            0         28   \n",
       "8        Quest                1  1643933124            0          6   \n",
       "9  Susannah953                1  1643237839            0          0   \n",
       "\n",
       "   thumbs_down  stars  best_score  \\\n",
       "0            0      5         527   \n",
       "1            0      5         724   \n",
       "2            0      5         710   \n",
       "3            0      0         581   \n",
       "4            0      0         820   \n",
       "5            1      5         518   \n",
       "6            0      5         833   \n",
       "7            2      0         891   \n",
       "8            0      5         693   \n",
       "9            0      5         404   \n",
       "\n",
       "                                                text  \n",
       "0  I tweaked it a little, removed onions because ...  \n",
       "1  Bush used to have a white chili bean and it ma...  \n",
       "2  I have a very complicated white chicken chili ...  \n",
       "3  In your introduction, you mentioned cream chee...  \n",
       "4  Wonderful! I made this for a &#34;Chili/Stew&#...  \n",
       "5  amazing! my boyfriend loved it so much! going ...  \n",
       "6  Wow!!!  This recipe is excellent as written!! ...  \n",
       "7  This is delicious and I make it often. One suc...  \n",
       "8  I absolutely love this recipe. I&#39;ve tweake...  \n",
       "9  I make this a lot … my kids and there friends ...  "
      ]
     },
     "execution_count": 25,
     "metadata": {},
     "output_type": "execute_result"
    }
   ],
   "source": [
    "reviews_df.head(10)"
   ]
  },
  {
   "cell_type": "code",
   "execution_count": 26,
   "metadata": {},
   "outputs": [
    {
     "data": {
      "text/html": [
       "<div>\n",
       "<style scoped>\n",
       "    .dataframe tbody tr th:only-of-type {\n",
       "        vertical-align: middle;\n",
       "    }\n",
       "\n",
       "    .dataframe tbody tr th {\n",
       "        vertical-align: top;\n",
       "    }\n",
       "\n",
       "    .dataframe thead th {\n",
       "        text-align: right;\n",
       "    }\n",
       "</style>\n",
       "<table border=\"1\" class=\"dataframe\">\n",
       "  <thead>\n",
       "    <tr style=\"text-align: right;\">\n",
       "      <th></th>\n",
       "      <th>Unnamed: 0</th>\n",
       "      <th>recipe_number</th>\n",
       "      <th>recipe_code</th>\n",
       "      <th>user_reputation</th>\n",
       "      <th>created_at</th>\n",
       "      <th>reply_count</th>\n",
       "      <th>thumbs_up</th>\n",
       "      <th>thumbs_down</th>\n",
       "      <th>stars</th>\n",
       "      <th>best_score</th>\n",
       "    </tr>\n",
       "  </thead>\n",
       "  <tbody>\n",
       "    <tr>\n",
       "      <th>count</th>\n",
       "      <td>18182.000000</td>\n",
       "      <td>18182.000000</td>\n",
       "      <td>18182.000000</td>\n",
       "      <td>18182.000000</td>\n",
       "      <td>1.818200e+04</td>\n",
       "      <td>18182.000000</td>\n",
       "      <td>18182.000000</td>\n",
       "      <td>18182.000000</td>\n",
       "      <td>18182.000000</td>\n",
       "      <td>18182.000000</td>\n",
       "    </tr>\n",
       "    <tr>\n",
       "      <th>mean</th>\n",
       "      <td>121.465295</td>\n",
       "      <td>38.689363</td>\n",
       "      <td>21773.667253</td>\n",
       "      <td>2.159608</td>\n",
       "      <td>1.623710e+09</td>\n",
       "      <td>0.014630</td>\n",
       "      <td>1.089264</td>\n",
       "      <td>0.549335</td>\n",
       "      <td>4.288802</td>\n",
       "      <td>153.162138</td>\n",
       "    </tr>\n",
       "    <tr>\n",
       "      <th>std</th>\n",
       "      <td>116.747893</td>\n",
       "      <td>29.786647</td>\n",
       "      <td>23965.109637</td>\n",
       "      <td>10.014666</td>\n",
       "      <td>5.468697e+06</td>\n",
       "      <td>0.137974</td>\n",
       "      <td>4.201004</td>\n",
       "      <td>3.470124</td>\n",
       "      <td>1.544786</td>\n",
       "      <td>141.075316</td>\n",
       "    </tr>\n",
       "    <tr>\n",
       "      <th>min</th>\n",
       "      <td>0.000000</td>\n",
       "      <td>1.000000</td>\n",
       "      <td>386.000000</td>\n",
       "      <td>0.000000</td>\n",
       "      <td>1.613035e+09</td>\n",
       "      <td>0.000000</td>\n",
       "      <td>0.000000</td>\n",
       "      <td>0.000000</td>\n",
       "      <td>0.000000</td>\n",
       "      <td>0.000000</td>\n",
       "    </tr>\n",
       "    <tr>\n",
       "      <th>25%</th>\n",
       "      <td>45.000000</td>\n",
       "      <td>12.000000</td>\n",
       "      <td>6086.000000</td>\n",
       "      <td>1.000000</td>\n",
       "      <td>1.622717e+09</td>\n",
       "      <td>0.000000</td>\n",
       "      <td>0.000000</td>\n",
       "      <td>0.000000</td>\n",
       "      <td>5.000000</td>\n",
       "      <td>100.000000</td>\n",
       "    </tr>\n",
       "    <tr>\n",
       "      <th>50%</th>\n",
       "      <td>91.000000</td>\n",
       "      <td>33.000000</td>\n",
       "      <td>14600.000000</td>\n",
       "      <td>1.000000</td>\n",
       "      <td>1.622718e+09</td>\n",
       "      <td>0.000000</td>\n",
       "      <td>0.000000</td>\n",
       "      <td>0.000000</td>\n",
       "      <td>5.000000</td>\n",
       "      <td>100.000000</td>\n",
       "    </tr>\n",
       "    <tr>\n",
       "      <th>75%</th>\n",
       "      <td>150.000000</td>\n",
       "      <td>64.000000</td>\n",
       "      <td>33121.000000</td>\n",
       "      <td>1.000000</td>\n",
       "      <td>1.622718e+09</td>\n",
       "      <td>0.000000</td>\n",
       "      <td>0.000000</td>\n",
       "      <td>0.000000</td>\n",
       "      <td>5.000000</td>\n",
       "      <td>100.000000</td>\n",
       "    </tr>\n",
       "    <tr>\n",
       "      <th>max</th>\n",
       "      <td>724.000000</td>\n",
       "      <td>100.000000</td>\n",
       "      <td>191775.000000</td>\n",
       "      <td>520.000000</td>\n",
       "      <td>1.665756e+09</td>\n",
       "      <td>3.000000</td>\n",
       "      <td>106.000000</td>\n",
       "      <td>126.000000</td>\n",
       "      <td>5.000000</td>\n",
       "      <td>946.000000</td>\n",
       "    </tr>\n",
       "  </tbody>\n",
       "</table>\n",
       "</div>"
      ],
      "text/plain": [
       "         Unnamed: 0  recipe_number    recipe_code  user_reputation  \\\n",
       "count  18182.000000   18182.000000   18182.000000     18182.000000   \n",
       "mean     121.465295      38.689363   21773.667253         2.159608   \n",
       "std      116.747893      29.786647   23965.109637        10.014666   \n",
       "min        0.000000       1.000000     386.000000         0.000000   \n",
       "25%       45.000000      12.000000    6086.000000         1.000000   \n",
       "50%       91.000000      33.000000   14600.000000         1.000000   \n",
       "75%      150.000000      64.000000   33121.000000         1.000000   \n",
       "max      724.000000     100.000000  191775.000000       520.000000   \n",
       "\n",
       "         created_at   reply_count     thumbs_up   thumbs_down         stars  \\\n",
       "count  1.818200e+04  18182.000000  18182.000000  18182.000000  18182.000000   \n",
       "mean   1.623710e+09      0.014630      1.089264      0.549335      4.288802   \n",
       "std    5.468697e+06      0.137974      4.201004      3.470124      1.544786   \n",
       "min    1.613035e+09      0.000000      0.000000      0.000000      0.000000   \n",
       "25%    1.622717e+09      0.000000      0.000000      0.000000      5.000000   \n",
       "50%    1.622718e+09      0.000000      0.000000      0.000000      5.000000   \n",
       "75%    1.622718e+09      0.000000      0.000000      0.000000      5.000000   \n",
       "max    1.665756e+09      3.000000    106.000000    126.000000      5.000000   \n",
       "\n",
       "         best_score  \n",
       "count  18182.000000  \n",
       "mean     153.162138  \n",
       "std      141.075316  \n",
       "min        0.000000  \n",
       "25%      100.000000  \n",
       "50%      100.000000  \n",
       "75%      100.000000  \n",
       "max      946.000000  "
      ]
     },
     "execution_count": 26,
     "metadata": {},
     "output_type": "execute_result"
    }
   ],
   "source": [
    "reviews_df.describe()"
   ]
  },
  {
   "cell_type": "code",
   "execution_count": 27,
   "metadata": {},
   "outputs": [
    {
     "name": "stdout",
     "output_type": "stream",
     "text": [
      "<class 'pandas.core.frame.DataFrame'>\n",
      "RangeIndex: 18182 entries, 0 to 18181\n",
      "Data columns (total 15 columns):\n",
      " #   Column           Non-Null Count  Dtype \n",
      "---  ------           --------------  ----- \n",
      " 0   Unnamed: 0       18182 non-null  int64 \n",
      " 1   recipe_number    18182 non-null  int64 \n",
      " 2   recipe_code      18182 non-null  int64 \n",
      " 3   recipe_name      18182 non-null  object\n",
      " 4   comment_id       18182 non-null  object\n",
      " 5   user_id          18182 non-null  object\n",
      " 6   user_name        18182 non-null  object\n",
      " 7   user_reputation  18182 non-null  int64 \n",
      " 8   created_at       18182 non-null  int64 \n",
      " 9   reply_count      18182 non-null  int64 \n",
      " 10  thumbs_up        18182 non-null  int64 \n",
      " 11  thumbs_down      18182 non-null  int64 \n",
      " 12  stars            18182 non-null  int64 \n",
      " 13  best_score       18182 non-null  int64 \n",
      " 14  text             18180 non-null  object\n",
      "dtypes: int64(10), object(5)\n",
      "memory usage: 2.1+ MB\n"
     ]
    }
   ],
   "source": [
    "reviews_df.info()"
   ]
  },
  {
   "cell_type": "code",
   "execution_count": 28,
   "metadata": {},
   "outputs": [
    {
     "data": {
      "text/plain": [
       "Unnamed: 0         0\n",
       "recipe_number      0\n",
       "recipe_code        0\n",
       "recipe_name        0\n",
       "comment_id         0\n",
       "user_id            0\n",
       "user_name          0\n",
       "user_reputation    0\n",
       "created_at         0\n",
       "reply_count        0\n",
       "thumbs_up          0\n",
       "thumbs_down        0\n",
       "stars              0\n",
       "best_score         0\n",
       "text               2\n",
       "dtype: int64"
      ]
     },
     "execution_count": 28,
     "metadata": {},
     "output_type": "execute_result"
    }
   ],
   "source": [
    "reviews_df.isna().sum()"
   ]
  },
  {
   "cell_type": "code",
   "execution_count": 29,
   "metadata": {},
   "outputs": [
    {
     "data": {
      "text/html": [
       "<div>\n",
       "<style scoped>\n",
       "    .dataframe tbody tr th:only-of-type {\n",
       "        vertical-align: middle;\n",
       "    }\n",
       "\n",
       "    .dataframe tbody tr th {\n",
       "        vertical-align: top;\n",
       "    }\n",
       "\n",
       "    .dataframe thead th {\n",
       "        text-align: right;\n",
       "    }\n",
       "</style>\n",
       "<table border=\"1\" class=\"dataframe\">\n",
       "  <thead>\n",
       "    <tr style=\"text-align: right;\">\n",
       "      <th></th>\n",
       "      <th>Unnamed: 0</th>\n",
       "      <th>recipe_number</th>\n",
       "      <th>recipe_code</th>\n",
       "      <th>recipe_name</th>\n",
       "      <th>comment_id</th>\n",
       "      <th>user_id</th>\n",
       "      <th>user_name</th>\n",
       "      <th>user_reputation</th>\n",
       "      <th>created_at</th>\n",
       "      <th>reply_count</th>\n",
       "      <th>thumbs_up</th>\n",
       "      <th>thumbs_down</th>\n",
       "      <th>stars</th>\n",
       "      <th>best_score</th>\n",
       "      <th>text</th>\n",
       "    </tr>\n",
       "  </thead>\n",
       "  <tbody>\n",
       "    <tr>\n",
       "      <th>1507</th>\n",
       "      <td>344</td>\n",
       "      <td>3</td>\n",
       "      <td>2832</td>\n",
       "      <td>Cheeseburger Soup</td>\n",
       "      <td>sp_aUSaElGf_2832_c_260955</td>\n",
       "      <td>u_1oKZmfyycO3xVnQeffIKHuaKT2U</td>\n",
       "      <td>No.1FamilyBaker</td>\n",
       "      <td>1</td>\n",
       "      <td>1622717645</td>\n",
       "      <td>0</td>\n",
       "      <td>0</td>\n",
       "      <td>0</td>\n",
       "      <td>5</td>\n",
       "      <td>100</td>\n",
       "      <td>NaN</td>\n",
       "    </tr>\n",
       "    <tr>\n",
       "      <th>2722</th>\n",
       "      <td>299</td>\n",
       "      <td>6</td>\n",
       "      <td>21444</td>\n",
       "      <td>Favorite Chicken Potpie</td>\n",
       "      <td>sp_aUSaElGf_21444_c_260817</td>\n",
       "      <td>u_1oKXz42APTrXTFF6SGvR3YMBJGy</td>\n",
       "      <td>TRGriggs</td>\n",
       "      <td>1</td>\n",
       "      <td>1622717652</td>\n",
       "      <td>0</td>\n",
       "      <td>0</td>\n",
       "      <td>0</td>\n",
       "      <td>5</td>\n",
       "      <td>100</td>\n",
       "      <td>NaN</td>\n",
       "    </tr>\n",
       "  </tbody>\n",
       "</table>\n",
       "</div>"
      ],
      "text/plain": [
       "      Unnamed: 0  recipe_number  recipe_code              recipe_name  \\\n",
       "1507         344              3         2832        Cheeseburger Soup   \n",
       "2722         299              6        21444  Favorite Chicken Potpie   \n",
       "\n",
       "                      comment_id                        user_id  \\\n",
       "1507   sp_aUSaElGf_2832_c_260955  u_1oKZmfyycO3xVnQeffIKHuaKT2U   \n",
       "2722  sp_aUSaElGf_21444_c_260817  u_1oKXz42APTrXTFF6SGvR3YMBJGy   \n",
       "\n",
       "            user_name  user_reputation  created_at  reply_count  thumbs_up  \\\n",
       "1507  No.1FamilyBaker                1  1622717645            0          0   \n",
       "2722         TRGriggs                1  1622717652            0          0   \n",
       "\n",
       "      thumbs_down  stars  best_score text  \n",
       "1507            0      5         100  NaN  \n",
       "2722            0      5         100  NaN  "
      ]
     },
     "execution_count": 29,
     "metadata": {},
     "output_type": "execute_result"
    }
   ],
   "source": [
    "reviews_df[reviews_df['text'].isna() == True]"
   ]
  },
  {
   "cell_type": "code",
   "execution_count": 30,
   "metadata": {},
   "outputs": [],
   "source": [
    "reviews_df.dropna(inplace = True)"
   ]
  },
  {
   "cell_type": "code",
   "execution_count": 31,
   "metadata": {},
   "outputs": [
    {
     "data": {
      "text/plain": [
       "Unnamed: 0         0\n",
       "recipe_number      0\n",
       "recipe_code        0\n",
       "recipe_name        0\n",
       "comment_id         0\n",
       "user_id            0\n",
       "user_name          0\n",
       "user_reputation    0\n",
       "created_at         0\n",
       "reply_count        0\n",
       "thumbs_up          0\n",
       "thumbs_down        0\n",
       "stars              0\n",
       "best_score         0\n",
       "text               0\n",
       "dtype: int64"
      ]
     },
     "execution_count": 31,
     "metadata": {},
     "output_type": "execute_result"
    }
   ],
   "source": [
    "reviews_df.isna().sum()"
   ]
  },
  {
   "cell_type": "code",
   "execution_count": 32,
   "metadata": {},
   "outputs": [
    {
     "name": "stdout",
     "output_type": "stream",
     "text": [
      "<class 'pandas.core.frame.DataFrame'>\n",
      "Index: 18180 entries, 0 to 18181\n",
      "Data columns (total 15 columns):\n",
      " #   Column           Non-Null Count  Dtype \n",
      "---  ------           --------------  ----- \n",
      " 0   Unnamed: 0       18180 non-null  int64 \n",
      " 1   recipe_number    18180 non-null  int64 \n",
      " 2   recipe_code      18180 non-null  int64 \n",
      " 3   recipe_name      18180 non-null  object\n",
      " 4   comment_id       18180 non-null  object\n",
      " 5   user_id          18180 non-null  object\n",
      " 6   user_name        18180 non-null  object\n",
      " 7   user_reputation  18180 non-null  int64 \n",
      " 8   created_at       18180 non-null  int64 \n",
      " 9   reply_count      18180 non-null  int64 \n",
      " 10  thumbs_up        18180 non-null  int64 \n",
      " 11  thumbs_down      18180 non-null  int64 \n",
      " 12  stars            18180 non-null  int64 \n",
      " 13  best_score       18180 non-null  int64 \n",
      " 14  text             18180 non-null  object\n",
      "dtypes: int64(10), object(5)\n",
      "memory usage: 2.2+ MB\n"
     ]
    }
   ],
   "source": [
    "reviews_df.info()"
   ]
  },
  {
   "cell_type": "code",
   "execution_count": 34,
   "metadata": {},
   "outputs": [
    {
     "data": {
      "text/plain": [
       "0        1665619889\n",
       "1        1665277687\n",
       "2        1664404557\n",
       "3        1661787808\n",
       "4        1664913823\n",
       "            ...    \n",
       "18177    1622717977\n",
       "18178    1613036720\n",
       "18179    1622717844\n",
       "18180    1622717233\n",
       "18181    1622717625\n",
       "Name: created_at, Length: 18180, dtype: int64"
      ]
     },
     "execution_count": 34,
     "metadata": {},
     "output_type": "execute_result"
    }
   ],
   "source": [
    "reviews_df['created_at']"
   ]
  },
  {
   "cell_type": "code",
   "execution_count": 35,
   "metadata": {},
   "outputs": [],
   "source": [
    "date_format = '%d%M%Y'\n",
    "reviews_df['created_at'] = pd.to_datetime(reviews_df['created_at'], unit='s').dt.strftime('%d-%m-%Y')"
   ]
  },
  {
   "cell_type": "code",
   "execution_count": 36,
   "metadata": {},
   "outputs": [
    {
     "data": {
      "text/plain": [
       "0        13-10-2022\n",
       "1        09-10-2022\n",
       "2        28-09-2022\n",
       "3        29-08-2022\n",
       "4        04-10-2022\n",
       "            ...    \n",
       "18177    03-06-2021\n",
       "18178    11-02-2021\n",
       "18179    03-06-2021\n",
       "18180    03-06-2021\n",
       "18181    03-06-2021\n",
       "Name: created_at, Length: 18180, dtype: object"
      ]
     },
     "execution_count": 36,
     "metadata": {},
     "output_type": "execute_result"
    }
   ],
   "source": [
    "reviews_df['created_at']"
   ]
  },
  {
   "cell_type": "code",
   "execution_count": 38,
   "metadata": {},
   "outputs": [],
   "source": [
    "reviews_df.drop(columns = ['Unnamed: 0'], inplace = True)"
   ]
  },
  {
   "cell_type": "code",
   "execution_count": 39,
   "metadata": {},
   "outputs": [
    {
     "data": {
      "text/html": [
       "<div>\n",
       "<style scoped>\n",
       "    .dataframe tbody tr th:only-of-type {\n",
       "        vertical-align: middle;\n",
       "    }\n",
       "\n",
       "    .dataframe tbody tr th {\n",
       "        vertical-align: top;\n",
       "    }\n",
       "\n",
       "    .dataframe thead th {\n",
       "        text-align: right;\n",
       "    }\n",
       "</style>\n",
       "<table border=\"1\" class=\"dataframe\">\n",
       "  <thead>\n",
       "    <tr style=\"text-align: right;\">\n",
       "      <th></th>\n",
       "      <th>recipe_number</th>\n",
       "      <th>recipe_code</th>\n",
       "      <th>recipe_name</th>\n",
       "      <th>comment_id</th>\n",
       "      <th>user_id</th>\n",
       "      <th>user_name</th>\n",
       "      <th>user_reputation</th>\n",
       "      <th>created_at</th>\n",
       "      <th>reply_count</th>\n",
       "      <th>thumbs_up</th>\n",
       "      <th>thumbs_down</th>\n",
       "      <th>stars</th>\n",
       "      <th>best_score</th>\n",
       "      <th>text</th>\n",
       "    </tr>\n",
       "  </thead>\n",
       "  <tbody>\n",
       "    <tr>\n",
       "      <th>0</th>\n",
       "      <td>1</td>\n",
       "      <td>14299</td>\n",
       "      <td>Creamy White Chili</td>\n",
       "      <td>sp_aUSaElGf_14299_c_2G3aneMRgRMZwXqIHmSdXSG1hEM</td>\n",
       "      <td>u_9iFLIhMa8QaG</td>\n",
       "      <td>Jeri326</td>\n",
       "      <td>1</td>\n",
       "      <td>13-10-2022</td>\n",
       "      <td>0</td>\n",
       "      <td>0</td>\n",
       "      <td>0</td>\n",
       "      <td>5</td>\n",
       "      <td>527</td>\n",
       "      <td>I tweaked it a little, removed onions because ...</td>\n",
       "    </tr>\n",
       "    <tr>\n",
       "      <th>1</th>\n",
       "      <td>1</td>\n",
       "      <td>14299</td>\n",
       "      <td>Creamy White Chili</td>\n",
       "      <td>sp_aUSaElGf_14299_c_2FsPC83HtzCsQAtOxlbL6RcaPbY</td>\n",
       "      <td>u_Lu6p25tmE77j</td>\n",
       "      <td>Mark467</td>\n",
       "      <td>50</td>\n",
       "      <td>09-10-2022</td>\n",
       "      <td>0</td>\n",
       "      <td>7</td>\n",
       "      <td>0</td>\n",
       "      <td>5</td>\n",
       "      <td>724</td>\n",
       "      <td>Bush used to have a white chili bean and it ma...</td>\n",
       "    </tr>\n",
       "    <tr>\n",
       "      <th>2</th>\n",
       "      <td>1</td>\n",
       "      <td>14299</td>\n",
       "      <td>Creamy White Chili</td>\n",
       "      <td>sp_aUSaElGf_14299_c_2FPrSGyTv7PQkZq37j92r9mYGkP</td>\n",
       "      <td>u_s0LwgpZ8Jsqq</td>\n",
       "      <td>Barbara566</td>\n",
       "      <td>10</td>\n",
       "      <td>28-09-2022</td>\n",
       "      <td>0</td>\n",
       "      <td>3</td>\n",
       "      <td>0</td>\n",
       "      <td>5</td>\n",
       "      <td>710</td>\n",
       "      <td>I have a very complicated white chicken chili ...</td>\n",
       "    </tr>\n",
       "    <tr>\n",
       "      <th>3</th>\n",
       "      <td>1</td>\n",
       "      <td>14299</td>\n",
       "      <td>Creamy White Chili</td>\n",
       "      <td>sp_aUSaElGf_14299_c_2DzdSIgV9qNiuBaLoZ7JQaartoC</td>\n",
       "      <td>u_fqrybAdYjgjG</td>\n",
       "      <td>jeansch123</td>\n",
       "      <td>1</td>\n",
       "      <td>29-08-2022</td>\n",
       "      <td>2</td>\n",
       "      <td>2</td>\n",
       "      <td>0</td>\n",
       "      <td>0</td>\n",
       "      <td>581</td>\n",
       "      <td>In your introduction, you mentioned cream chee...</td>\n",
       "    </tr>\n",
       "    <tr>\n",
       "      <th>4</th>\n",
       "      <td>1</td>\n",
       "      <td>14299</td>\n",
       "      <td>Creamy White Chili</td>\n",
       "      <td>sp_aUSaElGf_14299_c_2DtZJuRQYeTFwXBoZRfRhBPEXjI</td>\n",
       "      <td>u_XXWKwVhKZD69</td>\n",
       "      <td>camper77</td>\n",
       "      <td>10</td>\n",
       "      <td>04-10-2022</td>\n",
       "      <td>1</td>\n",
       "      <td>7</td>\n",
       "      <td>0</td>\n",
       "      <td>0</td>\n",
       "      <td>820</td>\n",
       "      <td>Wonderful! I made this for a &amp;#34;Chili/Stew&amp;#...</td>\n",
       "    </tr>\n",
       "    <tr>\n",
       "      <th>5</th>\n",
       "      <td>1</td>\n",
       "      <td>14299</td>\n",
       "      <td>Creamy White Chili</td>\n",
       "      <td>sp_aUSaElGf_14299_c_2Do918IutExN0pWEOFMU4cbiT8v</td>\n",
       "      <td>u_BALTQJIvWtYr</td>\n",
       "      <td>nikhita</td>\n",
       "      <td>1</td>\n",
       "      <td>24-08-2022</td>\n",
       "      <td>0</td>\n",
       "      <td>3</td>\n",
       "      <td>1</td>\n",
       "      <td>5</td>\n",
       "      <td>518</td>\n",
       "      <td>amazing! my boyfriend loved it so much! going ...</td>\n",
       "    </tr>\n",
       "    <tr>\n",
       "      <th>6</th>\n",
       "      <td>1</td>\n",
       "      <td>14299</td>\n",
       "      <td>Creamy White Chili</td>\n",
       "      <td>sp_aUSaElGf_14299_c_24hhcbywpsgGqG7yeDFH1IPZCb8</td>\n",
       "      <td>u_HuJVXMzQqJoI</td>\n",
       "      <td>Sandy1256</td>\n",
       "      <td>1</td>\n",
       "      <td>05-02-2022</td>\n",
       "      <td>0</td>\n",
       "      <td>11</td>\n",
       "      <td>0</td>\n",
       "      <td>5</td>\n",
       "      <td>833</td>\n",
       "      <td>Wow!!!  This recipe is excellent as written!! ...</td>\n",
       "    </tr>\n",
       "    <tr>\n",
       "      <th>7</th>\n",
       "      <td>1</td>\n",
       "      <td>14299</td>\n",
       "      <td>Creamy White Chili</td>\n",
       "      <td>sp_aUSaElGf_14299_c_24cuIEu6UoJvd5VRMAoqnTPR9wd</td>\n",
       "      <td>u_uj79hCc4xVhm</td>\n",
       "      <td>Towanka</td>\n",
       "      <td>1</td>\n",
       "      <td>04-02-2022</td>\n",
       "      <td>0</td>\n",
       "      <td>28</td>\n",
       "      <td>2</td>\n",
       "      <td>0</td>\n",
       "      <td>891</td>\n",
       "      <td>This is delicious and I make it often. One suc...</td>\n",
       "    </tr>\n",
       "    <tr>\n",
       "      <th>8</th>\n",
       "      <td>1</td>\n",
       "      <td>14299</td>\n",
       "      <td>Creamy White Chili</td>\n",
       "      <td>sp_aUSaElGf_14299_c_24cc4VZR87RR5vdkYAnsnq6YaOS</td>\n",
       "      <td>u_xDTU4BqIVIc9</td>\n",
       "      <td>Quest</td>\n",
       "      <td>1</td>\n",
       "      <td>04-02-2022</td>\n",
       "      <td>0</td>\n",
       "      <td>6</td>\n",
       "      <td>0</td>\n",
       "      <td>5</td>\n",
       "      <td>693</td>\n",
       "      <td>I absolutely love this recipe. I&amp;#39;ve tweake...</td>\n",
       "    </tr>\n",
       "    <tr>\n",
       "      <th>9</th>\n",
       "      <td>1</td>\n",
       "      <td>14299</td>\n",
       "      <td>Creamy White Chili</td>\n",
       "      <td>sp_aUSaElGf_14299_c_24Fso1ApihQ91uCmNvhBDDO1k2P</td>\n",
       "      <td>u_cDoX9ujcQEoc</td>\n",
       "      <td>Susannah953</td>\n",
       "      <td>1</td>\n",
       "      <td>26-01-2022</td>\n",
       "      <td>0</td>\n",
       "      <td>0</td>\n",
       "      <td>0</td>\n",
       "      <td>5</td>\n",
       "      <td>404</td>\n",
       "      <td>I make this a lot … my kids and there friends ...</td>\n",
       "    </tr>\n",
       "  </tbody>\n",
       "</table>\n",
       "</div>"
      ],
      "text/plain": [
       "   recipe_number  recipe_code         recipe_name  \\\n",
       "0              1        14299  Creamy White Chili   \n",
       "1              1        14299  Creamy White Chili   \n",
       "2              1        14299  Creamy White Chili   \n",
       "3              1        14299  Creamy White Chili   \n",
       "4              1        14299  Creamy White Chili   \n",
       "5              1        14299  Creamy White Chili   \n",
       "6              1        14299  Creamy White Chili   \n",
       "7              1        14299  Creamy White Chili   \n",
       "8              1        14299  Creamy White Chili   \n",
       "9              1        14299  Creamy White Chili   \n",
       "\n",
       "                                        comment_id         user_id  \\\n",
       "0  sp_aUSaElGf_14299_c_2G3aneMRgRMZwXqIHmSdXSG1hEM  u_9iFLIhMa8QaG   \n",
       "1  sp_aUSaElGf_14299_c_2FsPC83HtzCsQAtOxlbL6RcaPbY  u_Lu6p25tmE77j   \n",
       "2  sp_aUSaElGf_14299_c_2FPrSGyTv7PQkZq37j92r9mYGkP  u_s0LwgpZ8Jsqq   \n",
       "3  sp_aUSaElGf_14299_c_2DzdSIgV9qNiuBaLoZ7JQaartoC  u_fqrybAdYjgjG   \n",
       "4  sp_aUSaElGf_14299_c_2DtZJuRQYeTFwXBoZRfRhBPEXjI  u_XXWKwVhKZD69   \n",
       "5  sp_aUSaElGf_14299_c_2Do918IutExN0pWEOFMU4cbiT8v  u_BALTQJIvWtYr   \n",
       "6  sp_aUSaElGf_14299_c_24hhcbywpsgGqG7yeDFH1IPZCb8  u_HuJVXMzQqJoI   \n",
       "7  sp_aUSaElGf_14299_c_24cuIEu6UoJvd5VRMAoqnTPR9wd  u_uj79hCc4xVhm   \n",
       "8  sp_aUSaElGf_14299_c_24cc4VZR87RR5vdkYAnsnq6YaOS  u_xDTU4BqIVIc9   \n",
       "9  sp_aUSaElGf_14299_c_24Fso1ApihQ91uCmNvhBDDO1k2P  u_cDoX9ujcQEoc   \n",
       "\n",
       "     user_name  user_reputation  created_at  reply_count  thumbs_up  \\\n",
       "0      Jeri326                1  13-10-2022            0          0   \n",
       "1      Mark467               50  09-10-2022            0          7   \n",
       "2   Barbara566               10  28-09-2022            0          3   \n",
       "3   jeansch123                1  29-08-2022            2          2   \n",
       "4     camper77               10  04-10-2022            1          7   \n",
       "5      nikhita                1  24-08-2022            0          3   \n",
       "6    Sandy1256                1  05-02-2022            0         11   \n",
       "7      Towanka                1  04-02-2022            0         28   \n",
       "8        Quest                1  04-02-2022            0          6   \n",
       "9  Susannah953                1  26-01-2022            0          0   \n",
       "\n",
       "   thumbs_down  stars  best_score  \\\n",
       "0            0      5         527   \n",
       "1            0      5         724   \n",
       "2            0      5         710   \n",
       "3            0      0         581   \n",
       "4            0      0         820   \n",
       "5            1      5         518   \n",
       "6            0      5         833   \n",
       "7            2      0         891   \n",
       "8            0      5         693   \n",
       "9            0      5         404   \n",
       "\n",
       "                                                text  \n",
       "0  I tweaked it a little, removed onions because ...  \n",
       "1  Bush used to have a white chili bean and it ma...  \n",
       "2  I have a very complicated white chicken chili ...  \n",
       "3  In your introduction, you mentioned cream chee...  \n",
       "4  Wonderful! I made this for a &#34;Chili/Stew&#...  \n",
       "5  amazing! my boyfriend loved it so much! going ...  \n",
       "6  Wow!!!  This recipe is excellent as written!! ...  \n",
       "7  This is delicious and I make it often. One suc...  \n",
       "8  I absolutely love this recipe. I&#39;ve tweake...  \n",
       "9  I make this a lot … my kids and there friends ...  "
      ]
     },
     "execution_count": 39,
     "metadata": {},
     "output_type": "execute_result"
    }
   ],
   "source": [
    "reviews_df.head(10)"
   ]
  },
  {
   "cell_type": "code",
   "execution_count": 40,
   "metadata": {},
   "outputs": [
    {
     "data": {
      "text/html": [
       "<div>\n",
       "<style scoped>\n",
       "    .dataframe tbody tr th:only-of-type {\n",
       "        vertical-align: middle;\n",
       "    }\n",
       "\n",
       "    .dataframe tbody tr th {\n",
       "        vertical-align: top;\n",
       "    }\n",
       "\n",
       "    .dataframe thead th {\n",
       "        text-align: right;\n",
       "    }\n",
       "</style>\n",
       "<table border=\"1\" class=\"dataframe\">\n",
       "  <thead>\n",
       "    <tr style=\"text-align: right;\">\n",
       "      <th></th>\n",
       "      <th>recipe_number</th>\n",
       "      <th>recipe_code</th>\n",
       "      <th>user_reputation</th>\n",
       "      <th>reply_count</th>\n",
       "      <th>thumbs_up</th>\n",
       "      <th>thumbs_down</th>\n",
       "      <th>stars</th>\n",
       "      <th>best_score</th>\n",
       "    </tr>\n",
       "  </thead>\n",
       "  <tbody>\n",
       "    <tr>\n",
       "      <th>count</th>\n",
       "      <td>18180.000000</td>\n",
       "      <td>18180.000000</td>\n",
       "      <td>18180.000000</td>\n",
       "      <td>18180.000000</td>\n",
       "      <td>18180.000000</td>\n",
       "      <td>18180.000000</td>\n",
       "      <td>18180.000000</td>\n",
       "      <td>18180.000000</td>\n",
       "    </tr>\n",
       "    <tr>\n",
       "      <th>mean</th>\n",
       "      <td>38.693124</td>\n",
       "      <td>21774.727283</td>\n",
       "      <td>2.159736</td>\n",
       "      <td>0.014631</td>\n",
       "      <td>1.089384</td>\n",
       "      <td>0.549395</td>\n",
       "      <td>4.288724</td>\n",
       "      <td>153.167987</td>\n",
       "    </tr>\n",
       "    <tr>\n",
       "      <th>std</th>\n",
       "      <td>29.786123</td>\n",
       "      <td>23966.015985</td>\n",
       "      <td>10.015210</td>\n",
       "      <td>0.137981</td>\n",
       "      <td>4.201219</td>\n",
       "      <td>3.470310</td>\n",
       "      <td>1.544853</td>\n",
       "      <td>141.081974</td>\n",
       "    </tr>\n",
       "    <tr>\n",
       "      <th>min</th>\n",
       "      <td>1.000000</td>\n",
       "      <td>386.000000</td>\n",
       "      <td>0.000000</td>\n",
       "      <td>0.000000</td>\n",
       "      <td>0.000000</td>\n",
       "      <td>0.000000</td>\n",
       "      <td>0.000000</td>\n",
       "      <td>0.000000</td>\n",
       "    </tr>\n",
       "    <tr>\n",
       "      <th>25%</th>\n",
       "      <td>12.000000</td>\n",
       "      <td>6086.000000</td>\n",
       "      <td>1.000000</td>\n",
       "      <td>0.000000</td>\n",
       "      <td>0.000000</td>\n",
       "      <td>0.000000</td>\n",
       "      <td>5.000000</td>\n",
       "      <td>100.000000</td>\n",
       "    </tr>\n",
       "    <tr>\n",
       "      <th>50%</th>\n",
       "      <td>33.000000</td>\n",
       "      <td>14600.000000</td>\n",
       "      <td>1.000000</td>\n",
       "      <td>0.000000</td>\n",
       "      <td>0.000000</td>\n",
       "      <td>0.000000</td>\n",
       "      <td>5.000000</td>\n",
       "      <td>100.000000</td>\n",
       "    </tr>\n",
       "    <tr>\n",
       "      <th>75%</th>\n",
       "      <td>64.000000</td>\n",
       "      <td>33121.000000</td>\n",
       "      <td>1.000000</td>\n",
       "      <td>0.000000</td>\n",
       "      <td>0.000000</td>\n",
       "      <td>0.000000</td>\n",
       "      <td>5.000000</td>\n",
       "      <td>100.000000</td>\n",
       "    </tr>\n",
       "    <tr>\n",
       "      <th>max</th>\n",
       "      <td>100.000000</td>\n",
       "      <td>191775.000000</td>\n",
       "      <td>520.000000</td>\n",
       "      <td>3.000000</td>\n",
       "      <td>106.000000</td>\n",
       "      <td>126.000000</td>\n",
       "      <td>5.000000</td>\n",
       "      <td>946.000000</td>\n",
       "    </tr>\n",
       "  </tbody>\n",
       "</table>\n",
       "</div>"
      ],
      "text/plain": [
       "       recipe_number    recipe_code  user_reputation   reply_count  \\\n",
       "count   18180.000000   18180.000000     18180.000000  18180.000000   \n",
       "mean       38.693124   21774.727283         2.159736      0.014631   \n",
       "std        29.786123   23966.015985        10.015210      0.137981   \n",
       "min         1.000000     386.000000         0.000000      0.000000   \n",
       "25%        12.000000    6086.000000         1.000000      0.000000   \n",
       "50%        33.000000   14600.000000         1.000000      0.000000   \n",
       "75%        64.000000   33121.000000         1.000000      0.000000   \n",
       "max       100.000000  191775.000000       520.000000      3.000000   \n",
       "\n",
       "          thumbs_up   thumbs_down         stars    best_score  \n",
       "count  18180.000000  18180.000000  18180.000000  18180.000000  \n",
       "mean       1.089384      0.549395      4.288724    153.167987  \n",
       "std        4.201219      3.470310      1.544853    141.081974  \n",
       "min        0.000000      0.000000      0.000000      0.000000  \n",
       "25%        0.000000      0.000000      5.000000    100.000000  \n",
       "50%        0.000000      0.000000      5.000000    100.000000  \n",
       "75%        0.000000      0.000000      5.000000    100.000000  \n",
       "max      106.000000    126.000000      5.000000    946.000000  "
      ]
     },
     "execution_count": 40,
     "metadata": {},
     "output_type": "execute_result"
    }
   ],
   "source": [
    "reviews_df.describe()"
   ]
  },
  {
   "cell_type": "code",
   "execution_count": 41,
   "metadata": {},
   "outputs": [
    {
     "name": "stdout",
     "output_type": "stream",
     "text": [
      "<class 'pandas.core.frame.DataFrame'>\n",
      "Index: 18180 entries, 0 to 18181\n",
      "Data columns (total 14 columns):\n",
      " #   Column           Non-Null Count  Dtype \n",
      "---  ------           --------------  ----- \n",
      " 0   recipe_number    18180 non-null  int64 \n",
      " 1   recipe_code      18180 non-null  int64 \n",
      " 2   recipe_name      18180 non-null  object\n",
      " 3   comment_id       18180 non-null  object\n",
      " 4   user_id          18180 non-null  object\n",
      " 5   user_name        18180 non-null  object\n",
      " 6   user_reputation  18180 non-null  int64 \n",
      " 7   created_at       18180 non-null  object\n",
      " 8   reply_count      18180 non-null  int64 \n",
      " 9   thumbs_up        18180 non-null  int64 \n",
      " 10  thumbs_down      18180 non-null  int64 \n",
      " 11  stars            18180 non-null  int64 \n",
      " 12  best_score       18180 non-null  int64 \n",
      " 13  text             18180 non-null  object\n",
      "dtypes: int64(8), object(6)\n",
      "memory usage: 2.1+ MB\n"
     ]
    }
   ],
   "source": [
    "reviews_df.info()"
   ]
  },
  {
   "cell_type": "code",
   "execution_count": 43,
   "metadata": {},
   "outputs": [],
   "source": [
    "# Data Preprocessing\n",
    "\n",
    "# Convert to lowercase\n",
    "reviews_df['text'] = reviews_df['text'].str.lower()  \n",
    "\n",
    "# Remove punctuations\n",
    "reviews_df['text'] = reviews_df['text'].str.replace(r'[^\\w\\s]', '', regex=True)  \n",
    "texts = reviews_df['text'].values\n",
    "labels = reviews_df['stars'].values"
   ]
  },
  {
   "cell_type": "code",
   "execution_count": 44,
   "metadata": {},
   "outputs": [],
   "source": [
    "# Encode labels\n",
    "label_encoder = LabelEncoder()\n",
    "labels = label_encoder.fit_transform(labels)"
   ]
  },
  {
   "cell_type": "code",
   "execution_count": 45,
   "metadata": {},
   "outputs": [],
   "source": [
    "# Split data\n",
    "X_train, X_test, y_train, y_test = train_test_split(texts, labels, test_size=0.2, random_state=42)"
   ]
  },
  {
   "cell_type": "code",
   "execution_count": 46,
   "metadata": {},
   "outputs": [],
   "source": [
    "# Tokenization and padding\n",
    "tokenizer = Tokenizer(num_words=10000)\n",
    "tokenizer.fit_on_texts(X_train)\n",
    "X_train_seq = tokenizer.texts_to_sequences(X_train)\n",
    "X_test_seq = tokenizer.texts_to_sequences(X_test)\n",
    "X_train_pad = pad_sequences(X_train_seq, maxlen=100)\n",
    "X_test_pad = pad_sequences(X_test_seq, maxlen=100)"
   ]
  },
  {
   "cell_type": "code",
   "execution_count": 47,
   "metadata": {},
   "outputs": [
    {
     "name": "stderr",
     "output_type": "stream",
     "text": [
      "c:\\Users\\LENOVO\\AppData\\Local\\Programs\\Python\\Python312\\Lib\\site-packages\\keras\\src\\layers\\core\\embedding.py:90: UserWarning: Argument `input_length` is deprecated. Just remove it.\n",
      "  warnings.warn(\n"
     ]
    }
   ],
   "source": [
    "# Model design\n",
    "model = Sequential([\n",
    "    Embedding(input_dim=10000, output_dim=128, input_length=100),\n",
    "    Conv1D(filters=128, kernel_size=5, activation='relu'),\n",
    "    GlobalMaxPooling1D(),\n",
    "    Dropout(0.5),\n",
    "    Dense(64, activation='relu'),\n",
    "    Dropout(0.5),\n",
    "    Dense(len(label_encoder.classes_), activation='softmax')\n",
    "])"
   ]
  },
  {
   "cell_type": "code",
   "execution_count": 48,
   "metadata": {},
   "outputs": [],
   "source": [
    "# Compile model\n",
    "model.compile(optimizer='adam', loss='sparse_categorical_crossentropy', metrics=['accuracy'])"
   ]
  },
  {
   "cell_type": "code",
   "execution_count": 51,
   "metadata": {},
   "outputs": [
    {
     "name": "stdout",
     "output_type": "stream",
     "text": [
      "Epoch 1/10\n",
      "\u001b[1m364/364\u001b[0m \u001b[32m━━━━━━━━━━━━━━━━━━━━\u001b[0m\u001b[37m\u001b[0m \u001b[1m9s\u001b[0m 24ms/step - accuracy: 0.8672 - loss: 0.3928 - val_accuracy: 0.7580 - val_loss: 0.9101\n",
      "Epoch 2/10\n",
      "\u001b[1m364/364\u001b[0m \u001b[32m━━━━━━━━━━━━━━━━━━━━\u001b[0m\u001b[37m\u001b[0m \u001b[1m8s\u001b[0m 23ms/step - accuracy: 0.8876 - loss: 0.3238 - val_accuracy: 0.7329 - val_loss: 1.0169\n",
      "Epoch 3/10\n",
      "\u001b[1m364/364\u001b[0m \u001b[32m━━━━━━━━━━━━━━━━━━━━\u001b[0m\u001b[37m\u001b[0m \u001b[1m9s\u001b[0m 24ms/step - accuracy: 0.9023 - loss: 0.2794 - val_accuracy: 0.7563 - val_loss: 1.2050\n",
      "Epoch 4/10\n",
      "\u001b[1m364/364\u001b[0m \u001b[32m━━━━━━━━━━━━━━━━━━━━\u001b[0m\u001b[37m\u001b[0m \u001b[1m9s\u001b[0m 24ms/step - accuracy: 0.9140 - loss: 0.2372 - val_accuracy: 0.7401 - val_loss: 1.2446\n",
      "Epoch 5/10\n",
      "\u001b[1m364/364\u001b[0m \u001b[32m━━━━━━━━━━━━━━━━━━━━\u001b[0m\u001b[37m\u001b[0m \u001b[1m9s\u001b[0m 24ms/step - accuracy: 0.9263 - loss: 0.2189 - val_accuracy: 0.7480 - val_loss: 1.3920\n",
      "Epoch 6/10\n",
      "\u001b[1m364/364\u001b[0m \u001b[32m━━━━━━━━━━━━━━━━━━━━\u001b[0m\u001b[37m\u001b[0m \u001b[1m9s\u001b[0m 23ms/step - accuracy: 0.9316 - loss: 0.1999 - val_accuracy: 0.7398 - val_loss: 1.5870\n",
      "Epoch 7/10\n",
      "\u001b[1m364/364\u001b[0m \u001b[32m━━━━━━━━━━━━━━━━━━━━\u001b[0m\u001b[37m\u001b[0m \u001b[1m9s\u001b[0m 23ms/step - accuracy: 0.9380 - loss: 0.1786 - val_accuracy: 0.7401 - val_loss: 1.6769\n",
      "Epoch 8/10\n",
      "\u001b[1m364/364\u001b[0m \u001b[32m━━━━━━━━━━━━━━━━━━━━\u001b[0m\u001b[37m\u001b[0m \u001b[1m8s\u001b[0m 23ms/step - accuracy: 0.9407 - loss: 0.1711 - val_accuracy: 0.7133 - val_loss: 1.6924\n",
      "Epoch 9/10\n",
      "\u001b[1m364/364\u001b[0m \u001b[32m━━━━━━━━━━━━━━━━━━━━\u001b[0m\u001b[37m\u001b[0m \u001b[1m9s\u001b[0m 24ms/step - accuracy: 0.9501 - loss: 0.1425 - val_accuracy: 0.7236 - val_loss: 1.7633\n",
      "Epoch 10/10\n",
      "\u001b[1m364/364\u001b[0m \u001b[32m━━━━━━━━━━━━━━━━━━━━\u001b[0m\u001b[37m\u001b[0m \u001b[1m9s\u001b[0m 24ms/step - accuracy: 0.9453 - loss: 0.1583 - val_accuracy: 0.7277 - val_loss: 1.8379\n"
     ]
    },
    {
     "data": {
      "text/plain": [
       "<keras.src.callbacks.history.History at 0x206621f8200>"
      ]
     },
     "execution_count": 51,
     "metadata": {},
     "output_type": "execute_result"
    }
   ],
   "source": [
    "# Train model\n",
    "model.fit(X_train_pad, y_train, validation_split=0.2, epochs=10, batch_size=32)"
   ]
  },
  {
   "cell_type": "code",
   "execution_count": 52,
   "metadata": {},
   "outputs": [
    {
     "name": "stdout",
     "output_type": "stream",
     "text": [
      "\u001b[1m114/114\u001b[0m \u001b[32m━━━━━━━━━━━━━━━━━━━━\u001b[0m\u001b[37m\u001b[0m \u001b[1m0s\u001b[0m 4ms/step - accuracy: 0.7405 - loss: 1.8326\n",
      "Test Accuracy: 0.74\n"
     ]
    }
   ],
   "source": [
    "# Evaluate model\n",
    "loss, accuracy = model.evaluate(X_test_pad, y_test)\n",
    "print(f'Test Accuracy: {accuracy:.2f}')"
   ]
  },
  {
   "cell_type": "code",
   "execution_count": 101,
   "metadata": {},
   "outputs": [],
   "source": [
    "from tensorflow.keras.utils import to_categorical\n",
    "\n",
    "# One-hot encode labels for training and testing\n",
    "y_train_one_hot = to_categorical(y_train, num_classes=10)\n",
    "y_test_one_hot = to_categorical(y_test, num_classes=10)"
   ]
  },
  {
   "cell_type": "code",
   "execution_count": 102,
   "metadata": {},
   "outputs": [],
   "source": [
    "# Random Normal Initializer with SGD\n",
    "init = tf.keras.initializers.random_normal()\n",
    "optimizer = tf.keras.optimizers.SGD(learning_rate=0.1)\n",
    "model_normal_sgd = tf.keras.Sequential([\n",
    "    layers.Dense(32, activation='relu', input_shape=(100,), kernel_initializer=init),\n",
    "    layers.Dense(32, activation='relu', kernel_initializer=init),\n",
    "    layers.Dense(32, activation='relu', kernel_initializer=init),\n",
    "    layers.Dense(32, activation='relu', kernel_initializer=init),\n",
    "    layers.Dense(10, activation='softmax', kernel_initializer=tf.keras.initializers.glorot_normal())\n",
    "])"
   ]
  },
  {
   "cell_type": "code",
   "execution_count": 103,
   "metadata": {},
   "outputs": [
    {
     "name": "stdout",
     "output_type": "stream",
     "text": [
      "Epoch 1/10\n",
      "\u001b[1m91/91\u001b[0m \u001b[32m━━━━━━━━━━━━━━━━━━━━\u001b[0m\u001b[37m\u001b[0m \u001b[1m1s\u001b[0m 6ms/step - accuracy: 0.6569 - loss: 1.9546 - val_accuracy: 0.7563 - val_loss: 0.9105\n",
      "Epoch 2/10\n",
      "\u001b[1m91/91\u001b[0m \u001b[32m━━━━━━━━━━━━━━━━━━━━\u001b[0m\u001b[37m\u001b[0m \u001b[1m0s\u001b[0m 3ms/step - accuracy: 0.7594 - loss: 0.9132 - val_accuracy: 0.7563 - val_loss: 0.8928\n",
      "Epoch 3/10\n",
      "\u001b[1m91/91\u001b[0m \u001b[32m━━━━━━━━━━━━━━━━━━━━\u001b[0m\u001b[37m\u001b[0m \u001b[1m0s\u001b[0m 3ms/step - accuracy: 0.7546 - loss: 0.8971 - val_accuracy: 0.7563 - val_loss: 0.8857\n",
      "Epoch 4/10\n",
      "\u001b[1m91/91\u001b[0m \u001b[32m━━━━━━━━━━━━━━━━━━━━\u001b[0m\u001b[37m\u001b[0m \u001b[1m0s\u001b[0m 3ms/step - accuracy: 0.7609 - loss: 0.8733 - val_accuracy: 0.7563 - val_loss: 0.8804\n",
      "Epoch 5/10\n",
      "\u001b[1m91/91\u001b[0m \u001b[32m━━━━━━━━━━━━━━━━━━━━\u001b[0m\u001b[37m\u001b[0m \u001b[1m0s\u001b[0m 2ms/step - accuracy: 0.7624 - loss: 0.8662 - val_accuracy: 0.7561 - val_loss: 0.8784\n",
      "Epoch 6/10\n",
      "\u001b[1m91/91\u001b[0m \u001b[32m━━━━━━━━━━━━━━━━━━━━\u001b[0m\u001b[37m\u001b[0m \u001b[1m0s\u001b[0m 3ms/step - accuracy: 0.7619 - loss: 0.8659 - val_accuracy: 0.7563 - val_loss: 0.9021\n",
      "Epoch 7/10\n",
      "\u001b[1m91/91\u001b[0m \u001b[32m━━━━━━━━━━━━━━━━━━━━\u001b[0m\u001b[37m\u001b[0m \u001b[1m0s\u001b[0m 3ms/step - accuracy: 0.7621 - loss: 0.8690 - val_accuracy: 0.7563 - val_loss: 0.8784\n",
      "Epoch 8/10\n",
      "\u001b[1m91/91\u001b[0m \u001b[32m━━━━━━━━━━━━━━━━━━━━\u001b[0m\u001b[37m\u001b[0m \u001b[1m0s\u001b[0m 2ms/step - accuracy: 0.7648 - loss: 0.8541 - val_accuracy: 0.7558 - val_loss: 0.8730\n",
      "Epoch 9/10\n",
      "\u001b[1m91/91\u001b[0m \u001b[32m━━━━━━━━━━━━━━━━━━━━\u001b[0m\u001b[37m\u001b[0m \u001b[1m0s\u001b[0m 3ms/step - accuracy: 0.7636 - loss: 0.8482 - val_accuracy: 0.7563 - val_loss: 0.8732\n",
      "Epoch 10/10\n",
      "\u001b[1m91/91\u001b[0m \u001b[32m━━━━━━━━━━━━━━━━━━━━\u001b[0m\u001b[37m\u001b[0m \u001b[1m0s\u001b[0m 3ms/step - accuracy: 0.7622 - loss: 0.8547 - val_accuracy: 0.7563 - val_loss: 0.8762\n"
     ]
    },
    {
     "data": {
      "text/plain": [
       "<keras.src.callbacks.history.History at 0x20669ff3230>"
      ]
     },
     "execution_count": 103,
     "metadata": {},
     "output_type": "execute_result"
    }
   ],
   "source": [
    "model_normal_sgd.compile(optimizer=optimizer, loss='categorical_crossentropy', metrics=['accuracy'])\n",
    "model_normal_sgd.fit(X_train_pad, y_train_one_hot, epochs=10, batch_size=160, validation_data=(X_test_pad, y_test_one_hot), verbose=1)"
   ]
  },
  {
   "cell_type": "code",
   "execution_count": 104,
   "metadata": {},
   "outputs": [
    {
     "name": "stdout",
     "output_type": "stream",
     "text": [
      "Train Accuracy (Random Normal Init with SGD): 0.7623762488365173\n",
      "Test Accuracy (Random Normal Init with SGD): 0.7563256621360779\n"
     ]
    }
   ],
   "source": [
    "# Train and Test Accuracy\n",
    "train_acc_normal_sgd = model_normal_sgd.evaluate(X_train_pad, y_train_one_hot, verbose=0)[1]\n",
    "test_acc_normal_sgd = model_normal_sgd.evaluate(X_test_pad, y_test_one_hot, verbose=0)[1]\n",
    "print('Train Accuracy (Random Normal Init with SGD):', train_acc_normal_sgd)\n",
    "print('Test Accuracy (Random Normal Init with SGD):', test_acc_normal_sgd)"
   ]
  },
  {
   "cell_type": "code",
   "execution_count": 105,
   "metadata": {},
   "outputs": [],
   "source": [
    "# Glorot Uniform Initializer with SGD\n",
    "init = tf.keras.initializers.glorot_uniform()\n",
    "optimizer = tf.keras.optimizers.SGD(learning_rate=0.1)\n",
    "model_uniform_sgd = tf.keras.Sequential([\n",
    "    layers.Dense(32, activation='relu', input_shape=(100,), kernel_initializer=init),\n",
    "    layers.Dense(32, activation='relu', kernel_initializer=init),\n",
    "    layers.Dense(32, activation='relu', kernel_initializer=init),\n",
    "    layers.Dense(32, activation='relu', kernel_initializer=init),\n",
    "    layers.Dense(10, activation='softmax', kernel_initializer=tf.keras.initializers.glorot_normal())\n",
    "])"
   ]
  },
  {
   "cell_type": "code",
   "execution_count": 106,
   "metadata": {},
   "outputs": [
    {
     "name": "stdout",
     "output_type": "stream",
     "text": [
      "Epoch 1/10\n",
      "\u001b[1m91/91\u001b[0m \u001b[32m━━━━━━━━━━━━━━━━━━━━\u001b[0m\u001b[37m\u001b[0m \u001b[1m1s\u001b[0m 5ms/step - accuracy: 0.6129 - loss: 9324843296359626950823641088.0000 - val_accuracy: 0.7563 - val_loss: 1.0469\n",
      "Epoch 2/10\n",
      "\u001b[1m91/91\u001b[0m \u001b[32m━━━━━━━━━━━━━━━━━━━━\u001b[0m\u001b[37m\u001b[0m \u001b[1m0s\u001b[0m 3ms/step - accuracy: 0.7573 - loss: 1.0199 - val_accuracy: 0.7563 - val_loss: 0.9740\n",
      "Epoch 3/10\n",
      "\u001b[1m91/91\u001b[0m \u001b[32m━━━━━━━━━━━━━━━━━━━━\u001b[0m\u001b[37m\u001b[0m \u001b[1m0s\u001b[0m 3ms/step - accuracy: 0.7611 - loss: 0.9545 - val_accuracy: 0.7563 - val_loss: 0.9425\n",
      "Epoch 4/10\n",
      "\u001b[1m91/91\u001b[0m \u001b[32m━━━━━━━━━━━━━━━━━━━━\u001b[0m\u001b[37m\u001b[0m \u001b[1m0s\u001b[0m 3ms/step - accuracy: 0.7630 - loss: 0.9251 - val_accuracy: 0.7563 - val_loss: 0.9250\n",
      "Epoch 5/10\n",
      "\u001b[1m91/91\u001b[0m \u001b[32m━━━━━━━━━━━━━━━━━━━━\u001b[0m\u001b[37m\u001b[0m \u001b[1m0s\u001b[0m 3ms/step - accuracy: 0.7685 - loss: 0.8957 - val_accuracy: 0.7563 - val_loss: 0.9143\n",
      "Epoch 6/10\n",
      "\u001b[1m91/91\u001b[0m \u001b[32m━━━━━━━━━━━━━━━━━━━━\u001b[0m\u001b[37m\u001b[0m \u001b[1m0s\u001b[0m 3ms/step - accuracy: 0.7617 - loss: 0.9039 - val_accuracy: 0.7563 - val_loss: 0.9074\n",
      "Epoch 7/10\n",
      "\u001b[1m91/91\u001b[0m \u001b[32m━━━━━━━━━━━━━━━━━━━━\u001b[0m\u001b[37m\u001b[0m \u001b[1m0s\u001b[0m 3ms/step - accuracy: 0.7643 - loss: 0.8888 - val_accuracy: 0.7563 - val_loss: 0.9026\n",
      "Epoch 8/10\n",
      "\u001b[1m91/91\u001b[0m \u001b[32m━━━━━━━━━━━━━━━━━━━━\u001b[0m\u001b[37m\u001b[0m \u001b[1m0s\u001b[0m 3ms/step - accuracy: 0.7663 - loss: 0.8862 - val_accuracy: 0.7563 - val_loss: 0.8988\n",
      "Epoch 9/10\n",
      "\u001b[1m91/91\u001b[0m \u001b[32m━━━━━━━━━━━━━━━━━━━━\u001b[0m\u001b[37m\u001b[0m \u001b[1m0s\u001b[0m 2ms/step - accuracy: 0.7603 - loss: 0.8975 - val_accuracy: 0.7563 - val_loss: 0.8959\n",
      "Epoch 10/10\n",
      "\u001b[1m91/91\u001b[0m \u001b[32m━━━━━━━━━━━━━━━━━━━━\u001b[0m\u001b[37m\u001b[0m \u001b[1m0s\u001b[0m 2ms/step - accuracy: 0.7614 - loss: 0.8893 - val_accuracy: 0.7563 - val_loss: 0.8935\n"
     ]
    },
    {
     "data": {
      "text/plain": [
       "<keras.src.callbacks.history.History at 0x20669deca70>"
      ]
     },
     "execution_count": 106,
     "metadata": {},
     "output_type": "execute_result"
    }
   ],
   "source": [
    "model_uniform_sgd.compile(optimizer=optimizer, loss='categorical_crossentropy', metrics=['accuracy'])\n",
    "model_uniform_sgd.fit(X_train_pad, y_train_one_hot, epochs=10, batch_size=160, validation_data=(X_test_pad, y_test_one_hot), verbose=1)"
   ]
  },
  {
   "cell_type": "code",
   "execution_count": 107,
   "metadata": {},
   "outputs": [
    {
     "name": "stdout",
     "output_type": "stream",
     "text": [
      "Train Accuracy (Glorot Uniform Init with SGD): 0.7616199254989624\n",
      "Test Accuracy (Glorot Uniform Init with SGD): 0.7563256621360779\n"
     ]
    }
   ],
   "source": [
    "# Train and Test Accuracy\n",
    "train_acc_uniform_sgd = model_uniform_sgd.evaluate(X_train_pad, y_train_one_hot, verbose=0)[1]\n",
    "test_acc_uniform_sgd = model_uniform_sgd.evaluate(X_test_pad, y_test_one_hot, verbose=0)[1]\n",
    "print('Train Accuracy (Glorot Uniform Init with SGD):', train_acc_uniform_sgd)\n",
    "print('Test Accuracy (Glorot Uniform Init with SGD):', test_acc_uniform_sgd)"
   ]
  },
  {
   "cell_type": "code",
   "execution_count": 108,
   "metadata": {},
   "outputs": [],
   "source": [
    "# He Uniform Initializer with SGD\n",
    "init = tf.keras.initializers.he_uniform()\n",
    "optimizer = tf.keras.optimizers.SGD(learning_rate=0.1)\n",
    "model_he_sgd = tf.keras.Sequential([\n",
    "    layers.Dense(32, activation='relu', input_shape=(100,), kernel_initializer=init),\n",
    "    layers.Dense(32, activation='relu', kernel_initializer=init),\n",
    "    layers.Dense(32, activation='relu', kernel_initializer=init),\n",
    "    layers.Dense(32, activation='relu', kernel_initializer=init),\n",
    "    layers.Dense(10, activation='softmax', kernel_initializer=tf.keras.initializers.glorot_normal())\n",
    "])"
   ]
  },
  {
   "cell_type": "code",
   "execution_count": 109,
   "metadata": {},
   "outputs": [
    {
     "name": "stdout",
     "output_type": "stream",
     "text": [
      "Epoch 1/10\n",
      "\u001b[1m91/91\u001b[0m \u001b[32m━━━━━━━━━━━━━━━━━━━━\u001b[0m\u001b[37m\u001b[0m \u001b[1m1s\u001b[0m 6ms/step - accuracy: 0.7067 - loss: 5538698.0000 - val_accuracy: 0.7563 - val_loss: 0.9648\n",
      "Epoch 2/10\n",
      "\u001b[1m91/91\u001b[0m \u001b[32m━━━━━━━━━━━━━━━━━━━━\u001b[0m\u001b[37m\u001b[0m \u001b[1m0s\u001b[0m 2ms/step - accuracy: 0.7641 - loss: 0.9675 - val_accuracy: 0.7563 - val_loss: 0.9386\n",
      "Epoch 3/10\n",
      "\u001b[1m91/91\u001b[0m \u001b[32m━━━━━━━━━━━━━━━━━━━━\u001b[0m\u001b[37m\u001b[0m \u001b[1m0s\u001b[0m 3ms/step - accuracy: 0.7611 - loss: 0.9437 - val_accuracy: 0.7563 - val_loss: 0.9369\n",
      "Epoch 4/10\n",
      "\u001b[1m91/91\u001b[0m \u001b[32m━━━━━━━━━━━━━━━━━━━━\u001b[0m\u001b[37m\u001b[0m \u001b[1m0s\u001b[0m 3ms/step - accuracy: 0.7638 - loss: 0.9160 - val_accuracy: 0.7563 - val_loss: 0.9007\n",
      "Epoch 5/10\n",
      "\u001b[1m91/91\u001b[0m \u001b[32m━━━━━━━━━━━━━━━━━━━━\u001b[0m\u001b[37m\u001b[0m \u001b[1m0s\u001b[0m 3ms/step - accuracy: 0.7623 - loss: 0.8963 - val_accuracy: 0.7563 - val_loss: 0.8940\n",
      "Epoch 6/10\n",
      "\u001b[1m91/91\u001b[0m \u001b[32m━━━━━━━━━━━━━━━━━━━━\u001b[0m\u001b[37m\u001b[0m \u001b[1m0s\u001b[0m 3ms/step - accuracy: 0.7582 - loss: 0.8989 - val_accuracy: 0.7563 - val_loss: 0.9057\n",
      "Epoch 7/10\n",
      "\u001b[1m91/91\u001b[0m \u001b[32m━━━━━━━━━━━━━━━━━━━━\u001b[0m\u001b[37m\u001b[0m \u001b[1m0s\u001b[0m 3ms/step - accuracy: 0.7598 - loss: 0.8858 - val_accuracy: 0.7563 - val_loss: 0.8824\n",
      "Epoch 8/10\n",
      "\u001b[1m91/91\u001b[0m \u001b[32m━━━━━━━━━━━━━━━━━━━━\u001b[0m\u001b[37m\u001b[0m \u001b[1m0s\u001b[0m 3ms/step - accuracy: 0.7597 - loss: 0.8829 - val_accuracy: 0.7563 - val_loss: 0.8823\n",
      "Epoch 9/10\n",
      "\u001b[1m91/91\u001b[0m \u001b[32m━━━━━━━━━━━━━━━━━━━━\u001b[0m\u001b[37m\u001b[0m \u001b[1m0s\u001b[0m 3ms/step - accuracy: 0.7696 - loss: 0.8592 - val_accuracy: 0.7563 - val_loss: 0.8797\n",
      "Epoch 10/10\n",
      "\u001b[1m91/91\u001b[0m \u001b[32m━━━━━━━━━━━━━━━━━━━━\u001b[0m\u001b[37m\u001b[0m \u001b[1m0s\u001b[0m 3ms/step - accuracy: 0.7604 - loss: 0.8738 - val_accuracy: 0.7563 - val_loss: 0.8769\n"
     ]
    },
    {
     "data": {
      "text/plain": [
       "<keras.src.callbacks.history.History at 0x2066a3a36b0>"
      ]
     },
     "execution_count": 109,
     "metadata": {},
     "output_type": "execute_result"
    }
   ],
   "source": [
    "model_he_sgd.compile(optimizer=optimizer, loss='categorical_crossentropy', metrics=['accuracy'])\n",
    "model_he_sgd.fit(X_train_pad, y_train_one_hot, epochs=10, batch_size=160, validation_data=(X_test_pad, y_test_one_hot), verbose=1)"
   ]
  },
  {
   "cell_type": "code",
   "execution_count": 110,
   "metadata": {},
   "outputs": [
    {
     "name": "stdout",
     "output_type": "stream",
     "text": [
      "Train Accuracy (He Uniform Init with SGD): 0.7616199254989624\n",
      "Test Accuracy (He Uniform Init with SGD): 0.7563256621360779\n"
     ]
    }
   ],
   "source": [
    "# Train and Test Accuracy\n",
    "train_acc_he_sgd = model_he_sgd.evaluate(X_train_pad, y_train_one_hot, verbose=0)[1]\n",
    "test_acc_he_sgd = model_he_sgd.evaluate(X_test_pad, y_test_one_hot, verbose=0)[1]\n",
    "print('Train Accuracy (He Uniform Init with SGD):', train_acc_he_sgd)\n",
    "print('Test Accuracy (He Uniform Init with SGD):', test_acc_he_sgd)"
   ]
  },
  {
   "cell_type": "code",
   "execution_count": 111,
   "metadata": {},
   "outputs": [],
   "source": [
    "# He Uniform Initializer with Adagrad\n",
    "init = tf.keras.initializers.he_uniform()\n",
    "optimizer = tf.keras.optimizers.Adagrad(learning_rate=0.1)\n",
    "model_he_adagrad = tf.keras.Sequential([\n",
    "    layers.Dense(32, activation='relu', input_shape=(100,), kernel_initializer=init),\n",
    "    layers.Dense(32, activation='relu', kernel_initializer=init),\n",
    "    layers.Dense(32, activation='relu', kernel_initializer=init),\n",
    "    layers.Dense(32, activation='relu', kernel_initializer=init),\n",
    "    layers.Dense(10, activation='softmax', kernel_initializer=tf.keras.initializers.glorot_normal())\n",
    "])"
   ]
  },
  {
   "cell_type": "code",
   "execution_count": 112,
   "metadata": {},
   "outputs": [
    {
     "name": "stdout",
     "output_type": "stream",
     "text": [
      "Epoch 1/10\n",
      "\u001b[1m91/91\u001b[0m \u001b[32m━━━━━━━━━━━━━━━━━━━━\u001b[0m\u001b[37m\u001b[0m \u001b[1m2s\u001b[0m 6ms/step - accuracy: 0.6545 - loss: 187.8781 - val_accuracy: 0.7478 - val_loss: 1.1099\n",
      "Epoch 2/10\n",
      "\u001b[1m91/91\u001b[0m \u001b[32m━━━━━━━━━━━━━━━━━━━━\u001b[0m\u001b[37m\u001b[0m \u001b[1m0s\u001b[0m 3ms/step - accuracy: 0.7542 - loss: 1.1185 - val_accuracy: 0.7522 - val_loss: 0.9827\n",
      "Epoch 3/10\n",
      "\u001b[1m91/91\u001b[0m \u001b[32m━━━━━━━━━━━━━━━━━━━━\u001b[0m\u001b[37m\u001b[0m \u001b[1m0s\u001b[0m 3ms/step - accuracy: 0.7604 - loss: 0.9434 - val_accuracy: 0.7503 - val_loss: 0.9811\n",
      "Epoch 4/10\n",
      "\u001b[1m91/91\u001b[0m \u001b[32m━━━━━━━━━━━━━━━━━━━━\u001b[0m\u001b[37m\u001b[0m \u001b[1m0s\u001b[0m 3ms/step - accuracy: 0.7646 - loss: 0.8993 - val_accuracy: 0.7528 - val_loss: 0.9457\n",
      "Epoch 5/10\n",
      "\u001b[1m91/91\u001b[0m \u001b[32m━━━━━━━━━━━━━━━━━━━━\u001b[0m\u001b[37m\u001b[0m \u001b[1m0s\u001b[0m 3ms/step - accuracy: 0.7591 - loss: 0.8889 - val_accuracy: 0.7517 - val_loss: 0.9359\n",
      "Epoch 6/10\n",
      "\u001b[1m91/91\u001b[0m \u001b[32m━━━━━━━━━━━━━━━━━━━━\u001b[0m\u001b[37m\u001b[0m \u001b[1m0s\u001b[0m 3ms/step - accuracy: 0.7645 - loss: 0.8731 - val_accuracy: 0.7525 - val_loss: 0.9298\n",
      "Epoch 7/10\n",
      "\u001b[1m91/91\u001b[0m \u001b[32m━━━━━━━━━━━━━━━━━━━━\u001b[0m\u001b[37m\u001b[0m \u001b[1m0s\u001b[0m 2ms/step - accuracy: 0.7660 - loss: 0.8612 - val_accuracy: 0.7508 - val_loss: 0.9300\n",
      "Epoch 8/10\n",
      "\u001b[1m91/91\u001b[0m \u001b[32m━━━━━━━━━━━━━━━━━━━━\u001b[0m\u001b[37m\u001b[0m \u001b[1m0s\u001b[0m 2ms/step - accuracy: 0.7673 - loss: 0.8681 - val_accuracy: 0.7528 - val_loss: 0.9241\n",
      "Epoch 9/10\n",
      "\u001b[1m91/91\u001b[0m \u001b[32m━━━━━━━━━━━━━━━━━━━━\u001b[0m\u001b[37m\u001b[0m \u001b[1m0s\u001b[0m 2ms/step - accuracy: 0.7592 - loss: 0.8767 - val_accuracy: 0.7528 - val_loss: 0.9238\n",
      "Epoch 10/10\n",
      "\u001b[1m91/91\u001b[0m \u001b[32m━━━━━━━━━━━━━━━━━━━━\u001b[0m\u001b[37m\u001b[0m \u001b[1m0s\u001b[0m 3ms/step - accuracy: 0.7557 - loss: 0.8772 - val_accuracy: 0.7530 - val_loss: 0.9250\n"
     ]
    },
    {
     "data": {
      "text/plain": [
       "<keras.src.callbacks.history.History at 0x206791db440>"
      ]
     },
     "execution_count": 112,
     "metadata": {},
     "output_type": "execute_result"
    }
   ],
   "source": [
    "model_he_adagrad.compile(optimizer=optimizer, loss='categorical_crossentropy', metrics=['accuracy'])\n",
    "model_he_adagrad.fit(X_train_pad, y_train_one_hot, epochs=10, batch_size=160, validation_data=(X_test_pad, y_test_one_hot), verbose=1)"
   ]
  },
  {
   "cell_type": "code",
   "execution_count": 113,
   "metadata": {},
   "outputs": [
    {
     "name": "stdout",
     "output_type": "stream",
     "text": [
      "Train Accuracy (He Uniform Init with Adagrad): 0.7627200484275818\n",
      "Test Accuracy (He Uniform Init with Adagrad): 0.7530252933502197\n"
     ]
    }
   ],
   "source": [
    "# Train and Test Accuracy\n",
    "train_acc_he_adagrad = model_he_adagrad.evaluate(X_train_pad, y_train_one_hot, verbose=0)[1]\n",
    "test_acc_he_adagrad = model_he_adagrad.evaluate(X_test_pad, y_test_one_hot, verbose=0)[1]\n",
    "print('Train Accuracy (He Uniform Init with Adagrad):', train_acc_he_adagrad)\n",
    "print('Test Accuracy (He Uniform Init with Adagrad):', test_acc_he_adagrad)"
   ]
  },
  {
   "cell_type": "code",
   "execution_count": 114,
   "metadata": {},
   "outputs": [],
   "source": [
    "# He Uniform Initializer with Adam\n",
    "init = tf.keras.initializers.he_uniform()\n",
    "optimizer = tf.keras.optimizers.Adam(learning_rate=0.001)\n",
    "model_he_adam = tf.keras.Sequential([\n",
    "    layers.Dense(32, activation='relu', input_shape=(100,), kernel_initializer=init),\n",
    "    layers.Dense(32, activation='relu', kernel_initializer=init),\n",
    "    layers.Dense(32, activation='relu', kernel_initializer=init),\n",
    "    layers.Dense(32, activation='relu', kernel_initializer=init),\n",
    "    layers.Dense(10, activation='softmax', kernel_initializer=tf.keras.initializers.glorot_normal())\n",
    "])"
   ]
  },
  {
   "cell_type": "code",
   "execution_count": 115,
   "metadata": {},
   "outputs": [
    {
     "name": "stdout",
     "output_type": "stream",
     "text": [
      "Epoch 1/10\n",
      "\u001b[1m91/91\u001b[0m \u001b[32m━━━━━━━━━━━━━━━━━━━━\u001b[0m\u001b[37m\u001b[0m \u001b[1m3s\u001b[0m 6ms/step - accuracy: 0.3297 - loss: 280.7452 - val_accuracy: 0.5729 - val_loss: 32.2313\n",
      "Epoch 2/10\n",
      "\u001b[1m91/91\u001b[0m \u001b[32m━━━━━━━━━━━━━━━━━━━━\u001b[0m\u001b[37m\u001b[0m \u001b[1m0s\u001b[0m 3ms/step - accuracy: 0.5842 - loss: 30.7432 - val_accuracy: 0.5734 - val_loss: 16.6110\n",
      "Epoch 3/10\n",
      "\u001b[1m91/91\u001b[0m \u001b[32m━━━━━━━━━━━━━━━━━━━━\u001b[0m\u001b[37m\u001b[0m \u001b[1m0s\u001b[0m 3ms/step - accuracy: 0.5963 - loss: 16.3812 - val_accuracy: 0.6059 - val_loss: 10.0740\n",
      "Epoch 4/10\n",
      "\u001b[1m91/91\u001b[0m \u001b[32m━━━━━━━━━━━━━━━━━━━━\u001b[0m\u001b[37m\u001b[0m \u001b[1m0s\u001b[0m 3ms/step - accuracy: 0.6233 - loss: 9.3954 - val_accuracy: 0.6221 - val_loss: 6.9236\n",
      "Epoch 5/10\n",
      "\u001b[1m91/91\u001b[0m \u001b[32m━━━━━━━━━━━━━━━━━━━━\u001b[0m\u001b[37m\u001b[0m \u001b[1m0s\u001b[0m 3ms/step - accuracy: 0.6333 - loss: 6.1835 - val_accuracy: 0.6496 - val_loss: 5.0523\n",
      "Epoch 6/10\n",
      "\u001b[1m91/91\u001b[0m \u001b[32m━━━━━━━━━━━━━━━━━━━━\u001b[0m\u001b[37m\u001b[0m \u001b[1m0s\u001b[0m 3ms/step - accuracy: 0.6467 - loss: 4.2517 - val_accuracy: 0.6326 - val_loss: 3.9141\n",
      "Epoch 7/10\n",
      "\u001b[1m91/91\u001b[0m \u001b[32m━━━━━━━━━━━━━━━━━━━━\u001b[0m\u001b[37m\u001b[0m \u001b[1m0s\u001b[0m 3ms/step - accuracy: 0.6536 - loss: 3.2342 - val_accuracy: 0.6771 - val_loss: 3.1672\n",
      "Epoch 8/10\n",
      "\u001b[1m91/91\u001b[0m \u001b[32m━━━━━━━━━━━━━━━━━━━━\u001b[0m\u001b[37m\u001b[0m \u001b[1m0s\u001b[0m 3ms/step - accuracy: 0.6739 - loss: 2.5157 - val_accuracy: 0.6785 - val_loss: 2.6085\n",
      "Epoch 9/10\n",
      "\u001b[1m91/91\u001b[0m \u001b[32m━━━━━━━━━━━━━━━━━━━━\u001b[0m\u001b[37m\u001b[0m \u001b[1m0s\u001b[0m 3ms/step - accuracy: 0.6991 - loss: 2.0556 - val_accuracy: 0.6782 - val_loss: 2.2593\n",
      "Epoch 10/10\n",
      "\u001b[1m91/91\u001b[0m \u001b[32m━━━━━━━━━━━━━━━━━━━━\u001b[0m\u001b[37m\u001b[0m \u001b[1m0s\u001b[0m 3ms/step - accuracy: 0.7068 - loss: 1.7395 - val_accuracy: 0.7079 - val_loss: 2.0210\n"
     ]
    },
    {
     "data": {
      "text/plain": [
       "<keras.src.callbacks.history.History at 0x20671d1a6c0>"
      ]
     },
     "execution_count": 115,
     "metadata": {},
     "output_type": "execute_result"
    }
   ],
   "source": [
    "model_he_adam.compile(optimizer=optimizer, loss='categorical_crossentropy', metrics=['accuracy'])\n",
    "model_he_adam.fit(X_train_pad, y_train_one_hot, epochs=10, batch_size=160, validation_data=(X_test_pad, y_test_one_hot), verbose=1)"
   ]
  },
  {
   "cell_type": "code",
   "execution_count": 116,
   "metadata": {},
   "outputs": [
    {
     "name": "stdout",
     "output_type": "stream",
     "text": [
      "Train Accuracy (He Uniform Init with Adam, lr=0.001): 0.7194032073020935\n",
      "Test Accuracy (He Uniform Init with Adam, lr=0.001): 0.7079207897186279\n"
     ]
    }
   ],
   "source": [
    "# Train and Test Accuracy\n",
    "train_acc_he_adam = model_he_adam.evaluate(X_train_pad, y_train_one_hot, verbose=0)[1]\n",
    "test_acc_he_adam = model_he_adam.evaluate(X_test_pad, y_test_one_hot, verbose=0)[1]\n",
    "print('Train Accuracy (He Uniform Init with Adam, lr=0.001):', train_acc_he_adam)\n",
    "print('Test Accuracy (He Uniform Init with Adam, lr=0.001):', test_acc_he_adam)"
   ]
  },
  {
   "cell_type": "code",
   "execution_count": 117,
   "metadata": {},
   "outputs": [],
   "source": [
    "# He Uniform Initializer with Adam and Early Stopping\n",
    "init = tf.keras.initializers.he_uniform()\n",
    "optimizer = tf.keras.optimizers.Adam(learning_rate=0.01)\n",
    "model_he_adam_early = tf.keras.Sequential([\n",
    "    layers.Dense(32, activation='relu', input_shape=(100,), kernel_initializer=init),\n",
    "    layers.Dense(32, activation='relu', kernel_initializer=init),\n",
    "    layers.Dense(32, activation='relu', kernel_initializer=init),\n",
    "    layers.Dense(32, activation='relu', kernel_initializer=init),\n",
    "    layers.Dense(10, activation='softmax', kernel_initializer=tf.keras.initializers.glorot_normal())\n",
    "])"
   ]
  },
  {
   "cell_type": "code",
   "execution_count": 118,
   "metadata": {},
   "outputs": [
    {
     "name": "stdout",
     "output_type": "stream",
     "text": [
      "Epoch 1/2000\n",
      "\u001b[1m455/455\u001b[0m \u001b[32m━━━━━━━━━━━━━━━━━━━━\u001b[0m\u001b[37m\u001b[0m \u001b[1m4s\u001b[0m 3ms/step - accuracy: 0.6441 - loss: 34.1510 - val_accuracy: 0.7558 - val_loss: 0.9864\n",
      "Epoch 2/2000\n",
      "\u001b[1m455/455\u001b[0m \u001b[32m━━━━━━━━━━━━━━━━━━━━\u001b[0m\u001b[37m\u001b[0m \u001b[1m1s\u001b[0m 2ms/step - accuracy: 0.7546 - loss: 0.9557 - val_accuracy: 0.7522 - val_loss: 0.8918\n",
      "Epoch 3/2000\n",
      "\u001b[1m455/455\u001b[0m \u001b[32m━━━━━━━━━━━━━━━━━━━━\u001b[0m\u001b[37m\u001b[0m \u001b[1m1s\u001b[0m 2ms/step - accuracy: 0.7538 - loss: 0.9013 - val_accuracy: 0.7550 - val_loss: 0.8893\n",
      "Epoch 4/2000\n",
      "\u001b[1m455/455\u001b[0m \u001b[32m━━━━━━━━━━━━━━━━━━━━\u001b[0m\u001b[37m\u001b[0m \u001b[1m1s\u001b[0m 2ms/step - accuracy: 0.7673 - loss: 0.8710 - val_accuracy: 0.7561 - val_loss: 0.8793\n",
      "Epoch 5/2000\n",
      "\u001b[1m455/455\u001b[0m \u001b[32m━━━━━━━━━━━━━━━━━━━━\u001b[0m\u001b[37m\u001b[0m \u001b[1m1s\u001b[0m 2ms/step - accuracy: 0.7591 - loss: 0.8742 - val_accuracy: 0.7563 - val_loss: 0.8722\n",
      "Epoch 6/2000\n",
      "\u001b[1m455/455\u001b[0m \u001b[32m━━━━━━━━━━━━━━━━━━━━\u001b[0m\u001b[37m\u001b[0m \u001b[1m1s\u001b[0m 2ms/step - accuracy: 0.7646 - loss: 0.8643 - val_accuracy: 0.7563 - val_loss: 0.8719\n",
      "Epoch 7/2000\n",
      "\u001b[1m455/455\u001b[0m \u001b[32m━━━━━━━━━━━━━━━━━━━━\u001b[0m\u001b[37m\u001b[0m \u001b[1m1s\u001b[0m 2ms/step - accuracy: 0.7618 - loss: 0.8648 - val_accuracy: 0.7563 - val_loss: 0.8713\n",
      "Epoch 8/2000\n",
      "\u001b[1m455/455\u001b[0m \u001b[32m━━━━━━━━━━━━━━━━━━━━\u001b[0m\u001b[37m\u001b[0m \u001b[1m1s\u001b[0m 2ms/step - accuracy: 0.7545 - loss: 0.8786 - val_accuracy: 0.7563 - val_loss: 0.8708\n",
      "Epoch 9/2000\n",
      "\u001b[1m455/455\u001b[0m \u001b[32m━━━━━━━━━━━━━━━━━━━━\u001b[0m\u001b[37m\u001b[0m \u001b[1m1s\u001b[0m 2ms/step - accuracy: 0.7580 - loss: 0.8754 - val_accuracy: 0.7563 - val_loss: 0.8713\n",
      "Epoch 10/2000\n",
      "\u001b[1m455/455\u001b[0m \u001b[32m━━━━━━━━━━━━━━━━━━━━\u001b[0m\u001b[37m\u001b[0m \u001b[1m1s\u001b[0m 2ms/step - accuracy: 0.7589 - loss: 0.8707 - val_accuracy: 0.7563 - val_loss: 0.8701\n",
      "Epoch 11/2000\n",
      "\u001b[1m455/455\u001b[0m \u001b[32m━━━━━━━━━━━━━━━━━━━━\u001b[0m\u001b[37m\u001b[0m \u001b[1m1s\u001b[0m 2ms/step - accuracy: 0.7631 - loss: 0.8607 - val_accuracy: 0.7563 - val_loss: 0.8706\n",
      "Epoch 12/2000\n",
      "\u001b[1m455/455\u001b[0m \u001b[32m━━━━━━━━━━━━━━━━━━━━\u001b[0m\u001b[37m\u001b[0m \u001b[1m1s\u001b[0m 2ms/step - accuracy: 0.7670 - loss: 0.8513 - val_accuracy: 0.7563 - val_loss: 0.8706\n",
      "Epoch 13/2000\n",
      "\u001b[1m455/455\u001b[0m \u001b[32m━━━━━━━━━━━━━━━━━━━━\u001b[0m\u001b[37m\u001b[0m \u001b[1m1s\u001b[0m 2ms/step - accuracy: 0.7631 - loss: 0.8554 - val_accuracy: 0.7563 - val_loss: 0.8701\n",
      "Epoch 14/2000\n",
      "\u001b[1m455/455\u001b[0m \u001b[32m━━━━━━━━━━━━━━━━━━━━\u001b[0m\u001b[37m\u001b[0m \u001b[1m1s\u001b[0m 2ms/step - accuracy: 0.7638 - loss: 0.8583 - val_accuracy: 0.7563 - val_loss: 0.8708\n",
      "Epoch 15/2000\n",
      "\u001b[1m455/455\u001b[0m \u001b[32m━━━━━━━━━━━━━━━━━━━━\u001b[0m\u001b[37m\u001b[0m \u001b[1m1s\u001b[0m 2ms/step - accuracy: 0.7597 - loss: 0.8700 - val_accuracy: 0.7563 - val_loss: 0.8722\n",
      "Epoch 16/2000\n",
      "\u001b[1m455/455\u001b[0m \u001b[32m━━━━━━━━━━━━━━━━━━━━\u001b[0m\u001b[37m\u001b[0m \u001b[1m1s\u001b[0m 2ms/step - accuracy: 0.7687 - loss: 0.8480 - val_accuracy: 0.7563 - val_loss: 0.8695\n",
      "Epoch 17/2000\n",
      "\u001b[1m455/455\u001b[0m \u001b[32m━━━━━━━━━━━━━━━━━━━━\u001b[0m\u001b[37m\u001b[0m \u001b[1m1s\u001b[0m 2ms/step - accuracy: 0.7637 - loss: 0.8608 - val_accuracy: 0.7563 - val_loss: 0.8696\n",
      "Epoch 18/2000\n",
      "\u001b[1m455/455\u001b[0m \u001b[32m━━━━━━━━━━━━━━━━━━━━\u001b[0m\u001b[37m\u001b[0m \u001b[1m1s\u001b[0m 2ms/step - accuracy: 0.7623 - loss: 0.8629 - val_accuracy: 0.7563 - val_loss: 0.8711\n",
      "Epoch 19/2000\n",
      "\u001b[1m455/455\u001b[0m \u001b[32m━━━━━━━━━━━━━━━━━━━━\u001b[0m\u001b[37m\u001b[0m \u001b[1m1s\u001b[0m 2ms/step - accuracy: 0.7573 - loss: 0.8802 - val_accuracy: 0.7563 - val_loss: 0.8707\n",
      "Epoch 20/2000\n",
      "\u001b[1m455/455\u001b[0m \u001b[32m━━━━━━━━━━━━━━━━━━━━\u001b[0m\u001b[37m\u001b[0m \u001b[1m1s\u001b[0m 2ms/step - accuracy: 0.7606 - loss: 0.8648 - val_accuracy: 0.7563 - val_loss: 0.8706\n",
      "Epoch 21/2000\n",
      "\u001b[1m455/455\u001b[0m \u001b[32m━━━━━━━━━━━━━━━━━━━━\u001b[0m\u001b[37m\u001b[0m \u001b[1m1s\u001b[0m 2ms/step - accuracy: 0.7631 - loss: 0.8622 - val_accuracy: 0.7563 - val_loss: 0.8710\n",
      "Epoch 22/2000\n",
      "\u001b[1m455/455\u001b[0m \u001b[32m━━━━━━━━━━━━━━━━━━━━\u001b[0m\u001b[37m\u001b[0m \u001b[1m1s\u001b[0m 2ms/step - accuracy: 0.7602 - loss: 0.8655 - val_accuracy: 0.7563 - val_loss: 0.8698\n",
      "Epoch 23/2000\n",
      "\u001b[1m455/455\u001b[0m \u001b[32m━━━━━━━━━━━━━━━━━━━━\u001b[0m\u001b[37m\u001b[0m \u001b[1m1s\u001b[0m 2ms/step - accuracy: 0.7628 - loss: 0.8640 - val_accuracy: 0.7563 - val_loss: 0.8708\n",
      "Epoch 24/2000\n",
      "\u001b[1m455/455\u001b[0m \u001b[32m━━━━━━━━━━━━━━━━━━━━\u001b[0m\u001b[37m\u001b[0m \u001b[1m1s\u001b[0m 2ms/step - accuracy: 0.7655 - loss: 0.8520 - val_accuracy: 0.7563 - val_loss: 0.8704\n",
      "Epoch 25/2000\n",
      "\u001b[1m455/455\u001b[0m \u001b[32m━━━━━━━━━━━━━━━━━━━━\u001b[0m\u001b[37m\u001b[0m \u001b[1m1s\u001b[0m 2ms/step - accuracy: 0.7632 - loss: 0.8642 - val_accuracy: 0.7563 - val_loss: 0.8708\n",
      "Epoch 26/2000\n",
      "\u001b[1m455/455\u001b[0m \u001b[32m━━━━━━━━━━━━━━━━━━━━\u001b[0m\u001b[37m\u001b[0m \u001b[1m1s\u001b[0m 2ms/step - accuracy: 0.7609 - loss: 0.8678 - val_accuracy: 0.7563 - val_loss: 0.8703\n",
      "Epoch 26: early stopping\n",
      "Restoring model weights from the end of the best epoch: 16.\n"
     ]
    }
   ],
   "source": [
    "model_he_adam_early.compile(optimizer=optimizer, loss='categorical_crossentropy', metrics=['accuracy'])\n",
    "\n",
    "# Early stopping callback\n",
    "es = tf.keras.callbacks.EarlyStopping(monitor='val_loss', mode='min', patience=10, restore_best_weights=True, verbose=1)\n",
    "\n",
    "# Train with early stopping\n",
    "history = model_he_adam_early.fit(X_train_pad, y_train_one_hot, epochs=2000, callbacks=[es], validation_data=(X_test_pad, y_test_one_hot), verbose=1)\n"
   ]
  },
  {
   "cell_type": "code",
   "execution_count": 119,
   "metadata": {},
   "outputs": [
    {
     "name": "stdout",
     "output_type": "stream",
     "text": [
      "Train Accuracy (He Uniform Init with Adam, lr=0.01 and Early Stopping): 0.7616199254989624\n",
      "Test Accuracy (He Uniform Init with Adam, lr=0.01 and Early Stopping): 0.7563256621360779\n"
     ]
    }
   ],
   "source": [
    "# Train and Test Accuracy\n",
    "train_acc_he_adam_early = model_he_adam_early.evaluate(X_train_pad, y_train_one_hot, verbose=0)[1]\n",
    "test_acc_he_adam_early = model_he_adam_early.evaluate(X_test_pad, y_test_one_hot, verbose=0)[1]\n",
    "print('Train Accuracy (He Uniform Init with Adam, lr=0.01 and Early Stopping):', train_acc_he_adam_early)\n",
    "print('Test Accuracy (He Uniform Init with Adam, lr=0.01 and Early Stopping):', test_acc_he_adam_early)"
   ]
  },
  {
   "cell_type": "code",
   "execution_count": null,
   "metadata": {},
   "outputs": [],
   "source": []
  },
  {
   "cell_type": "code",
   "execution_count": null,
   "metadata": {},
   "outputs": [],
   "source": []
  },
  {
   "cell_type": "code",
   "execution_count": null,
   "metadata": {},
   "outputs": [],
   "source": []
  },
  {
   "cell_type": "code",
   "execution_count": null,
   "metadata": {},
   "outputs": [],
   "source": []
  },
  {
   "cell_type": "code",
   "execution_count": null,
   "metadata": {},
   "outputs": [],
   "source": []
  },
  {
   "cell_type": "code",
   "execution_count": null,
   "metadata": {},
   "outputs": [],
   "source": []
  },
  {
   "cell_type": "code",
   "execution_count": null,
   "metadata": {},
   "outputs": [],
   "source": []
  },
  {
   "cell_type": "code",
   "execution_count": null,
   "metadata": {},
   "outputs": [],
   "source": []
  },
  {
   "cell_type": "code",
   "execution_count": null,
   "metadata": {},
   "outputs": [],
   "source": []
  },
  {
   "cell_type": "code",
   "execution_count": null,
   "metadata": {},
   "outputs": [],
   "source": []
  },
  {
   "cell_type": "code",
   "execution_count": null,
   "metadata": {},
   "outputs": [],
   "source": []
  },
  {
   "cell_type": "code",
   "execution_count": null,
   "metadata": {},
   "outputs": [],
   "source": []
  },
  {
   "cell_type": "code",
   "execution_count": null,
   "metadata": {},
   "outputs": [],
   "source": []
  },
  {
   "cell_type": "code",
   "execution_count": null,
   "metadata": {},
   "outputs": [],
   "source": []
  },
  {
   "cell_type": "code",
   "execution_count": null,
   "metadata": {},
   "outputs": [],
   "source": []
  },
  {
   "cell_type": "code",
   "execution_count": null,
   "metadata": {},
   "outputs": [],
   "source": []
  }
 ],
 "metadata": {
  "kernelspec": {
   "display_name": "Python 3",
   "language": "python",
   "name": "python3"
  },
  "language_info": {
   "codemirror_mode": {
    "name": "ipython",
    "version": 3
   },
   "file_extension": ".py",
   "mimetype": "text/x-python",
   "name": "python",
   "nbconvert_exporter": "python",
   "pygments_lexer": "ipython3",
   "version": "3.12.4"
  }
 },
 "nbformat": 4,
 "nbformat_minor": 2
}
