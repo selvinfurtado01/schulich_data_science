{
 "cells": [
  {
   "cell_type": "code",
   "execution_count": null,
   "metadata": {},
   "outputs": [
    {
     "name": "stdout",
     "output_type": "stream",
     "text": [
      "Requirement already satisfied: pillow in c:\\users\\lenovo\\appdata\\local\\programs\\python\\python312\\lib\\site-packages (10.4.0)\n",
      "Note: you may need to restart the kernel to use updated packages.\n"
     ]
    },
    {
     "name": "stderr",
     "output_type": "stream",
     "text": [
      "\n",
      "[notice] A new release of pip is available: 24.0 -> 24.3.1\n",
      "[notice] To update, run: python.exe -m pip install --upgrade pip\n"
     ]
    }
   ],
   "source": [
    "# pip install pillow"
   ]
  },
  {
   "cell_type": "code",
   "execution_count": null,
   "metadata": {},
   "outputs": [
    {
     "name": "stdout",
     "output_type": "stream",
     "text": [
      "Collecting pyzbar\n",
      "  Downloading pyzbar-0.1.9-py2.py3-none-win_amd64.whl.metadata (10 kB)\n",
      "Downloading pyzbar-0.1.9-py2.py3-none-win_amd64.whl (817 kB)\n",
      "   ---------------------------------------- 0.0/817.4 kB ? eta -:--:--\n",
      "   ---------------------------------------- 0.0/817.4 kB ? eta -:--:--\n",
      "    --------------------------------------- 10.2/817.4 kB ? eta -:--:--\n",
      "   - ------------------------------------- 30.7/817.4 kB 325.1 kB/s eta 0:00:03\n",
      "   ----- -------------------------------- 112.6/817.4 kB 819.2 kB/s eta 0:00:01\n",
      "   ---------------------------------------- 817.4/817.4 kB 4.7 MB/s eta 0:00:00\n",
      "Installing collected packages: pyzbar\n",
      "Successfully installed pyzbar-0.1.9\n",
      "Note: you may need to restart the kernel to use updated packages.\n"
     ]
    },
    {
     "name": "stderr",
     "output_type": "stream",
     "text": [
      "  WARNING: The script read_zbar.exe is installed in 'c:\\Users\\LENOVO\\AppData\\Local\\Programs\\Python\\Python312\\Scripts' which is not on PATH.\n",
      "  Consider adding this directory to PATH or, if you prefer to suppress this warning, use --no-warn-script-location.\n",
      "\n",
      "[notice] A new release of pip is available: 24.0 -> 24.3.1\n",
      "[notice] To update, run: python.exe -m pip install --upgrade pip\n"
     ]
    }
   ],
   "source": [
    "# pip install pyzbar"
   ]
  },
  {
   "cell_type": "code",
   "execution_count": 3,
   "metadata": {},
   "outputs": [],
   "source": [
    "import barcode\n",
    "from barcode.writer import ImageWriter\n",
    "from PIL import Image\n",
    "from pyzbar.pyzbar import decode\n",
    "import pandas as pd"
   ]
  },
  {
   "cell_type": "code",
   "execution_count": 4,
   "metadata": {},
   "outputs": [],
   "source": [
    "product_grocery_df = pd.read_csv('https://raw.githubusercontent.com/selvinfurtado01/schulich_data_science/refs/heads/main/grocery_synthetic_data(details).csv')"
   ]
  },
  {
   "cell_type": "code",
   "execution_count": 5,
   "metadata": {},
   "outputs": [
    {
     "data": {
      "text/html": [
       "<div>\n",
       "<style scoped>\n",
       "    .dataframe tbody tr th:only-of-type {\n",
       "        vertical-align: middle;\n",
       "    }\n",
       "\n",
       "    .dataframe tbody tr th {\n",
       "        vertical-align: top;\n",
       "    }\n",
       "\n",
       "    .dataframe thead th {\n",
       "        text-align: right;\n",
       "    }\n",
       "</style>\n",
       "<table border=\"1\" class=\"dataframe\">\n",
       "  <thead>\n",
       "    <tr style=\"text-align: right;\">\n",
       "      <th></th>\n",
       "      <th>product_id</th>\n",
       "      <th>product_name</th>\n",
       "      <th>product_price</th>\n",
       "    </tr>\n",
       "  </thead>\n",
       "  <tbody>\n",
       "    <tr>\n",
       "      <th>0</th>\n",
       "      <td>48443</td>\n",
       "      <td>Tortilla(6pck)</td>\n",
       "      <td>5.00</td>\n",
       "    </tr>\n",
       "    <tr>\n",
       "      <th>1</th>\n",
       "      <td>44817</td>\n",
       "      <td>White Bread</td>\n",
       "      <td>4.00</td>\n",
       "    </tr>\n",
       "    <tr>\n",
       "      <th>2</th>\n",
       "      <td>60571</td>\n",
       "      <td>Tomato Ketchup</td>\n",
       "      <td>5.50</td>\n",
       "    </tr>\n",
       "    <tr>\n",
       "      <th>3</th>\n",
       "      <td>55644</td>\n",
       "      <td>Beef</td>\n",
       "      <td>18.00</td>\n",
       "    </tr>\n",
       "    <tr>\n",
       "      <th>4</th>\n",
       "      <td>67243</td>\n",
       "      <td>Shredded Cheese(350g)</td>\n",
       "      <td>7.00</td>\n",
       "    </tr>\n",
       "    <tr>\n",
       "      <th>5</th>\n",
       "      <td>32815</td>\n",
       "      <td>Eggs(0.5dozen)</td>\n",
       "      <td>4.50</td>\n",
       "    </tr>\n",
       "    <tr>\n",
       "      <th>6</th>\n",
       "      <td>11013</td>\n",
       "      <td>Cookies</td>\n",
       "      <td>4.25</td>\n",
       "    </tr>\n",
       "    <tr>\n",
       "      <th>7</th>\n",
       "      <td>79206</td>\n",
       "      <td>Eggs(1.5dozen)</td>\n",
       "      <td>11.25</td>\n",
       "    </tr>\n",
       "    <tr>\n",
       "      <th>8</th>\n",
       "      <td>38954</td>\n",
       "      <td>Mustard</td>\n",
       "      <td>4.50</td>\n",
       "    </tr>\n",
       "    <tr>\n",
       "      <th>9</th>\n",
       "      <td>64629</td>\n",
       "      <td>Peanut Butter</td>\n",
       "      <td>4.50</td>\n",
       "    </tr>\n",
       "  </tbody>\n",
       "</table>\n",
       "</div>"
      ],
      "text/plain": [
       "   product_id           product_name  product_price\n",
       "0       48443         Tortilla(6pck)           5.00\n",
       "1       44817            White Bread           4.00\n",
       "2       60571         Tomato Ketchup           5.50\n",
       "3       55644                   Beef          18.00\n",
       "4       67243  Shredded Cheese(350g)           7.00\n",
       "5       32815         Eggs(0.5dozen)           4.50\n",
       "6       11013                Cookies           4.25\n",
       "7       79206         Eggs(1.5dozen)          11.25\n",
       "8       38954                Mustard           4.50\n",
       "9       64629          Peanut Butter           4.50"
      ]
     },
     "execution_count": 5,
     "metadata": {},
     "output_type": "execute_result"
    }
   ],
   "source": [
    "product_grocery_df.head(10)"
   ]
  },
  {
   "cell_type": "code",
   "execution_count": 6,
   "metadata": {},
   "outputs": [
    {
     "data": {
      "text/plain": [
       "product_id  product_name           product_price\n",
       "10873       Mayonnaise             6.00             1\n",
       "74097       Shredded Cheese(620g)  12.50            1\n",
       "64629       Peanut Butter          4.50             1\n",
       "67243       Shredded Cheese(350g)  7.00             1\n",
       "67542       Biscuits               4.50             1\n",
       "67561       Apples(5pck)           5.00             1\n",
       "71494       Cupcakes(6pck)         5.50             1\n",
       "72729       Cheese(14pckts)        6.50             1\n",
       "79206       Eggs(1.5dozen)         11.25            1\n",
       "11013       Cookies                4.25             1\n",
       "93344       Chocolates             5.00             1\n",
       "95501       Eggs(1dozen)           7.50             1\n",
       "97856       Hot Sauce              4.00             1\n",
       "97923       Cereal                 4.00             1\n",
       "98168       Butter(550g)           6.00             1\n",
       "98726       Butter(350g)           4.75             1\n",
       "60571       Tomato Ketchup         5.50             1\n",
       "55786       Mushrooms(500g)        5.25             1\n",
       "55644       Beef                   18.00            1\n",
       "55139       Bananas(6pck)          4.50             1\n",
       "54229       Brown Bread            5.00             1\n",
       "53022       Rice(4kg)              11.00            1\n",
       "48443       Tortilla(6pck)         5.00             1\n",
       "44817       White Bread            4.00             1\n",
       "41033       Strawberry Jam         4.75             1\n",
       "40442       Pork                   17.00            1\n",
       "38954       Mustard                4.50             1\n",
       "38402       Onions(5pck)           4.00             1\n",
       "32815       Eggs(0.5dozen)         4.50             1\n",
       "24766       Tortilla(10pck)        7.50             1\n",
       "24244       Chicken                16.00            1\n",
       "18443       Pasta                  4.50             1\n",
       "11561       Mushrooms(350g)        3.75             1\n",
       "99196       Rice(2kg)              6.00             1\n",
       "Name: count, dtype: int64"
      ]
     },
     "execution_count": 6,
     "metadata": {},
     "output_type": "execute_result"
    }
   ],
   "source": [
    "product_grocery_df.value_counts()"
   ]
  },
  {
   "cell_type": "code",
   "execution_count": null,
   "metadata": {},
   "outputs": [],
   "source": []
  },
  {
   "cell_type": "code",
   "execution_count": null,
   "metadata": {},
   "outputs": [],
   "source": []
  },
  {
   "cell_type": "code",
   "execution_count": null,
   "metadata": {},
   "outputs": [],
   "source": []
  },
  {
   "cell_type": "code",
   "execution_count": null,
   "metadata": {},
   "outputs": [],
   "source": []
  },
  {
   "cell_type": "code",
   "execution_count": null,
   "metadata": {},
   "outputs": [],
   "source": []
  },
  {
   "cell_type": "code",
   "execution_count": null,
   "metadata": {},
   "outputs": [],
   "source": []
  }
 ],
 "metadata": {
  "kernelspec": {
   "display_name": "Python 3",
   "language": "python",
   "name": "python3"
  },
  "language_info": {
   "codemirror_mode": {
    "name": "ipython",
    "version": 3
   },
   "file_extension": ".py",
   "mimetype": "text/x-python",
   "name": "python",
   "nbconvert_exporter": "python",
   "pygments_lexer": "ipython3",
   "version": "3.12.4"
  }
 },
 "nbformat": 4,
 "nbformat_minor": 2
}
